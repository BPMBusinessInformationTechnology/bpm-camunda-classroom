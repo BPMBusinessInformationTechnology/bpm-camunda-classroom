{
 "cells": [
  {
   "cell_type": "markdown",
   "metadata": {
    "cell_id": "00000-8d6ee9ee-a834-4d43-97b0-290aae0d32e9",
    "deepnote_cell_type": "markdown",
    "id": "07pKC6QDXX0S"
   },
   "source": [
    "# ML-BPMN Getting Started with scikit-learn, PMML and Camunda\n",
    "\n",
    "*... a tutorial for students in the FHNW MSc module Digitalisation of Business Processes (DigiBP), written by [Andreas Martin, PhD](https://andreasmartin.ch).*\n",
    "\n",
    "[![Collab](https://colab.research.google.com/assets/colab-badge.svg)](https://colab.research.google.com/github/DigiBP/digibp-camunda-classroom/blob/master/modelling/pmml/ML_Getting_Started.ipynb) [![deepnote](https://deepnote.com/buttons/launch-in-deepnote-small.svg)](https://deepnote.com/launch?url=https%3A%2F%2Fgithub.com%2FDigiBP%2Fdigibp-camunda-classroom%2Fblob%2Fmaster%2Fmodelling%2Fpmml%2FML_Getting_Started.ipynb) [![GitHub.dev](https://img.shields.io/badge/Open%20in-github.dev-lightgrey)](https://github.dev/DigiBP/digibp-camunda-classroom/blob/master/modelling/pmml/ML_Getting_Started.ipynb)\n",
    "\n",
    "This short tutorial is intended to provide a straight forward introduction to machine learning using the widely used Python library **scikit-learn** (aka sklearn).\n",
    "\n",
    "> Trivia: The name *SciKit* is derived from its original intention being a SciPy Toolkit. SciPy is another Python library for scientific computing.\n",
    "\n",
    "Sklearn enjoys huge popularity when it comes to classic machine learning methods; it is well documented, has a large developer community and besides the official documentation there are plenty of other good resources for the ML toolkit available on the web.\n",
    "\n",
    "> Sklearn is intended for **classical ML** and **not for Deep Learning**, although a Multi-layer Perceptron (MLP), for example, can be trained. Since Sklearn does **not support GPUs**, it is not suitable for large-scale applications."
   ]
  },
  {
   "cell_type": "markdown",
   "metadata": {
    "cell_id": "00001-a237bda6-59e5-4250-a376-11777d2160b6",
    "deepnote_cell_type": "markdown",
    "id": "_YJcShEfbLuq"
   },
   "source": [
    "## Data and Use Case\n",
    "This tutorial uses historical data from an expense reporting and audit process — the **order approval process** is depicted in the following Fig a:\n",
    "\n",
    "![](https://github.com/DigiBP/digibp-camunda-classroom/raw/master/modelling/pmml/order-approval-sklearn.png)\n",
    "\n",
    "**Fig a**: approval process\n",
    "\n",
    "This (possibly synthetic) data was collected by humans, which is approved or not based on the expense **category**, **urgency**, **target price** and actual **price** paid.\n",
    "\n",
    "> This use case has been inspired by an example/article of Donato Marrazzo (Red Hat, Inc.). He provided data, in a related GitHub repository [[1]](https://github.com/dmarrazzo/rhdm-dmn-pmml-order), of an **expense approval process**, which is used here in this tutorial, along with a series of articles ([[2]](https://developers.redhat.com/blog/2021/01/14/knowledge-meets-machine-learning-for-smarter-decisions-part-1#conclusion) and [[3]](https://developers.redhat.com/blog/2021/01/22/knowledge-meets-machine-learning-for-smarter-decisions-part-2#conclusion))."
   ]
  },
  {
   "cell_type": "markdown",
   "metadata": {
    "cell_id": "00002-6ab0b364-0beb-405b-89ee-026f04e35f23",
    "deepnote_cell_type": "markdown",
    "id": "bzarPqtIlaii"
   },
   "source": [
    "### 🚧 Main Task\n",
    "The task in this tutorial is to train an ML model step by step and then generate a PMML file, which then implements the `Approve expense order (PMML)` activity depicted in Fig a."
   ]
  },
  {
   "cell_type": "markdown",
   "metadata": {
    "cell_id": "00003-0624d79b-6fea-4881-b7ba-dbceee4c79db",
    "deepnote_cell_type": "markdown",
    "id": "ETuIabj8I47A"
   },
   "source": [
    "## 1. Load the CSV File\n",
    "Load the CSV file from GitHub and feed the data into the *data* variable by using [pandas](https://pandas.pydata.org/pandas-docs/stable/reference/api/pandas.read_csv.html). Pandas is intended to be a data analysis and manipulation tool, which is used here and the following steps until dataset separation."
   ]
  },
  {
   "cell_type": "code",
   "execution_count": 6,
   "metadata": {
    "cell_id": "00004-0986ee09-6817-4c5e-bc28-4e610710d45c",
    "deepnote_cell_type": "code",
    "deepnote_to_be_reexecuted": false,
    "execution_millis": 215,
    "execution_start": 1637183513973,
    "id": "rVcppWD74FP4",
    "source_hash": "2be5c11d"
   },
   "outputs": [
    {
     "data": {
      "application/vnd.deepnote.dataframe.v2+json": {
       "column_count": 5,
       "columns": [
        {
         "dtype": "object",
         "name": "category",
         "stats": {
          "categories": [
           {
            "count": 2033,
            "name": "basic"
           },
           {
            "count": 1967,
            "name": "optional"
           }
          ],
          "nan_count": 0,
          "unique_count": 2
         }
        },
        {
         "dtype": "object",
         "name": "urgency",
         "stats": {
          "categories": [
           {
            "count": 1401,
            "name": "low"
           },
           {
            "count": 1321,
            "name": "medium"
           },
           {
            "count": 1278,
            "name": "high"
           }
          ],
          "nan_count": 0,
          "unique_count": 3
         }
        },
        {
         "dtype": "int64",
         "name": "targetPrice",
         "stats": {
          "histogram": [
           {
            "bin_end": 349,
            "bin_start": 0,
            "count": 413
           },
           {
            "bin_end": 698,
            "bin_start": 349,
            "count": 428
           },
           {
            "bin_end": 1047,
            "bin_start": 698,
            "count": 379
           },
           {
            "bin_end": 1396,
            "bin_start": 1047,
            "count": 390
           },
           {
            "bin_end": 1745,
            "bin_start": 1396,
            "count": 423
           },
           {
            "bin_end": 2094,
            "bin_start": 1745,
            "count": 399
           },
           {
            "bin_end": 2443,
            "bin_start": 2094,
            "count": 393
           },
           {
            "bin_end": 2792,
            "bin_start": 2443,
            "count": 404
           },
           {
            "bin_end": 3141,
            "bin_start": 2792,
            "count": 385
           },
           {
            "bin_end": 3490,
            "bin_start": 3141,
            "count": 386
           }
          ],
          "max": "3490",
          "min": "0",
          "nan_count": 0,
          "unique_count": 350
         }
        },
        {
         "dtype": "int64",
         "name": "price",
         "stats": {
          "histogram": [
           {
            "bin_end": 413.8,
            "bin_start": 19,
            "count": 221
           },
           {
            "bin_end": 808.6,
            "bin_start": 413.8,
            "count": 453
           },
           {
            "bin_end": 1203.4,
            "bin_start": 808.6,
            "count": 470
           },
           {
            "bin_end": 1598.2,
            "bin_start": 1203.4,
            "count": 419
           },
           {
            "bin_end": 1993,
            "bin_start": 1598.2,
            "count": 467
           },
           {
            "bin_end": 2387.8,
            "bin_start": 1993,
            "count": 445
           },
           {
            "bin_end": 2782.6,
            "bin_start": 2387.8,
            "count": 453
           },
           {
            "bin_end": 3177.4,
            "bin_start": 2782.6,
            "count": 452
           },
           {
            "bin_end": 3572.2000000000003,
            "bin_start": 3177.4,
            "count": 425
           },
           {
            "bin_end": 3967,
            "bin_start": 3572.2000000000003,
            "count": 195
           }
          ],
          "max": "3967",
          "min": "19",
          "nan_count": 0,
          "unique_count": 2474
         }
        },
        {
         "dtype": "bool",
         "name": "approved",
         "stats": {
          "categories": [
           {
            "count": 2157,
            "name": "True"
           },
           {
            "count": 1843,
            "name": "False"
           }
          ],
          "nan_count": 0,
          "unique_count": 2
         }
        },
        {
         "dtype": "int64",
         "name": "_deepnote_index_column"
        }
       ],
       "row_count": 4000,
       "rows_bottom": [
        {
         "_deepnote_index_column": 3900,
         "approved": true,
         "category": "basic",
         "price": 2975,
         "targetPrice": 2590,
         "urgency": "low"
        },
        {
         "_deepnote_index_column": 3901,
         "approved": false,
         "category": "optional",
         "price": 2850,
         "targetPrice": 2410,
         "urgency": "high"
        },
        {
         "_deepnote_index_column": 3902,
         "approved": true,
         "category": "basic",
         "price": 2356,
         "targetPrice": 2040,
         "urgency": "high"
        },
        {
         "_deepnote_index_column": 3903,
         "approved": true,
         "category": "basic",
         "price": 2011,
         "targetPrice": 1980,
         "urgency": "low"
        },
        {
         "_deepnote_index_column": 3904,
         "approved": false,
         "category": "optional",
         "price": 1815,
         "targetPrice": 1480,
         "urgency": "high"
        },
        {
         "_deepnote_index_column": 3905,
         "approved": true,
         "category": "optional",
         "price": 2017,
         "targetPrice": 2000,
         "urgency": "low"
        },
        {
         "_deepnote_index_column": 3906,
         "approved": false,
         "category": "optional",
         "price": 289,
         "targetPrice": 30,
         "urgency": "medium"
        },
        {
         "_deepnote_index_column": 3907,
         "approved": false,
         "category": "basic",
         "price": 727,
         "targetPrice": 410,
         "urgency": "low"
        },
        {
         "_deepnote_index_column": 3908,
         "approved": true,
         "category": "optional",
         "price": 2165,
         "targetPrice": 1920,
         "urgency": "high"
        },
        {
         "_deepnote_index_column": 3909,
         "approved": true,
         "category": "basic",
         "price": 3250,
         "targetPrice": 2840,
         "urgency": "high"
        },
        {
         "_deepnote_index_column": 3910,
         "approved": true,
         "category": "basic",
         "price": 2956,
         "targetPrice": 2790,
         "urgency": "medium"
        },
        {
         "_deepnote_index_column": 3911,
         "approved": false,
         "category": "optional",
         "price": 1780,
         "targetPrice": 1390,
         "urgency": "low"
        },
        {
         "_deepnote_index_column": 3912,
         "approved": false,
         "category": "optional",
         "price": 656,
         "targetPrice": 460,
         "urgency": "high"
        },
        {
         "_deepnote_index_column": 3913,
         "approved": true,
         "category": "basic",
         "price": 2950,
         "targetPrice": 2710,
         "urgency": "high"
        },
        {
         "_deepnote_index_column": 3914,
         "approved": true,
         "category": "basic",
         "price": 3189,
         "targetPrice": 2790,
         "urgency": "high"
        },
        {
         "_deepnote_index_column": 3915,
         "approved": false,
         "category": "optional",
         "price": 1880,
         "targetPrice": 1420,
         "urgency": "high"
        },
        {
         "_deepnote_index_column": 3916,
         "approved": true,
         "category": "optional",
         "price": 3637,
         "targetPrice": 3410,
         "urgency": "low"
        },
        {
         "_deepnote_index_column": 3917,
         "approved": true,
         "category": "optional",
         "price": 3431,
         "targetPrice": 3170,
         "urgency": "medium"
        },
        {
         "_deepnote_index_column": 3918,
         "approved": false,
         "category": "basic",
         "price": 1656,
         "targetPrice": 1340,
         "urgency": "medium"
        },
        {
         "_deepnote_index_column": 3919,
         "approved": true,
         "category": "basic",
         "price": 3672,
         "targetPrice": 3210,
         "urgency": "high"
        },
        {
         "_deepnote_index_column": 3920,
         "approved": false,
         "category": "basic",
         "price": 1208,
         "targetPrice": 940,
         "urgency": "low"
        },
        {
         "_deepnote_index_column": 3921,
         "approved": false,
         "category": "optional",
         "price": 50,
         "targetPrice": 20,
         "urgency": "low"
        },
        {
         "_deepnote_index_column": 3922,
         "approved": true,
         "category": "optional",
         "price": 3303,
         "targetPrice": 2910,
         "urgency": "high"
        },
        {
         "_deepnote_index_column": 3923,
         "approved": true,
         "category": "optional",
         "price": 3099,
         "targetPrice": 2980,
         "urgency": "high"
        },
        {
         "_deepnote_index_column": 3924,
         "approved": false,
         "category": "basic",
         "price": 2104,
         "targetPrice": 1710,
         "urgency": "medium"
        },
        {
         "_deepnote_index_column": 3925,
         "approved": true,
         "category": "basic",
         "price": 286,
         "targetPrice": 240,
         "urgency": "high"
        },
        {
         "_deepnote_index_column": 3926,
         "approved": true,
         "category": "basic",
         "price": 3829,
         "targetPrice": 3440,
         "urgency": "low"
        },
        {
         "_deepnote_index_column": 3927,
         "approved": true,
         "category": "basic",
         "price": 3037,
         "targetPrice": 2920,
         "urgency": "low"
        },
        {
         "_deepnote_index_column": 3928,
         "approved": true,
         "category": "basic",
         "price": 526,
         "targetPrice": 440,
         "urgency": "high"
        },
        {
         "_deepnote_index_column": 3929,
         "approved": false,
         "category": "optional",
         "price": 1154,
         "targetPrice": 940,
         "urgency": "medium"
        },
        {
         "_deepnote_index_column": 3930,
         "approved": true,
         "category": "basic",
         "price": 2646,
         "targetPrice": 2430,
         "urgency": "high"
        },
        {
         "_deepnote_index_column": 3931,
         "approved": true,
         "category": "basic",
         "price": 1424,
         "targetPrice": 1350,
         "urgency": "medium"
        },
        {
         "_deepnote_index_column": 3932,
         "approved": true,
         "category": "basic",
         "price": 1971,
         "targetPrice": 1840,
         "urgency": "high"
        },
        {
         "_deepnote_index_column": 3933,
         "approved": true,
         "category": "optional",
         "price": 2453,
         "targetPrice": 2290,
         "urgency": "high"
        },
        {
         "_deepnote_index_column": 3934,
         "approved": false,
         "category": "basic",
         "price": 1552,
         "targetPrice": 1140,
         "urgency": "low"
        },
        {
         "_deepnote_index_column": 3935,
         "approved": true,
         "category": "optional",
         "price": 1491,
         "targetPrice": 1270,
         "urgency": "high"
        },
        {
         "_deepnote_index_column": 3936,
         "approved": false,
         "category": "basic",
         "price": 2290,
         "targetPrice": 1840,
         "urgency": "medium"
        },
        {
         "_deepnote_index_column": 3937,
         "approved": false,
         "category": "basic",
         "price": 1616,
         "targetPrice": 1320,
         "urgency": "medium"
        },
        {
         "_deepnote_index_column": 3938,
         "approved": false,
         "category": "basic",
         "price": 441,
         "targetPrice": 150,
         "urgency": "high"
        },
        {
         "_deepnote_index_column": 3939,
         "approved": true,
         "category": "basic",
         "price": 1624,
         "targetPrice": 1410,
         "urgency": "high"
        },
        {
         "_deepnote_index_column": 3940,
         "approved": false,
         "category": "optional",
         "price": 589,
         "targetPrice": 450,
         "urgency": "high"
        },
        {
         "_deepnote_index_column": 3941,
         "approved": false,
         "category": "basic",
         "price": 921,
         "targetPrice": 500,
         "urgency": "medium"
        },
        {
         "_deepnote_index_column": 3942,
         "approved": false,
         "category": "optional",
         "price": 400,
         "targetPrice": 180,
         "urgency": "low"
        },
        {
         "_deepnote_index_column": 3943,
         "approved": true,
         "category": "basic",
         "price": 2623,
         "targetPrice": 2370,
         "urgency": "medium"
        },
        {
         "_deepnote_index_column": 3944,
         "approved": true,
         "category": "basic",
         "price": 1582,
         "targetPrice": 1530,
         "urgency": "high"
        },
        {
         "_deepnote_index_column": 3945,
         "approved": false,
         "category": "basic",
         "price": 1775,
         "targetPrice": 1390,
         "urgency": "low"
        },
        {
         "_deepnote_index_column": 3946,
         "approved": false,
         "category": "basic",
         "price": 825,
         "targetPrice": 680,
         "urgency": "low"
        },
        {
         "_deepnote_index_column": 3947,
         "approved": true,
         "category": "basic",
         "price": 3269,
         "targetPrice": 2840,
         "urgency": "high"
        },
        {
         "_deepnote_index_column": 3948,
         "approved": true,
         "category": "optional",
         "price": 2025,
         "targetPrice": 1890,
         "urgency": "medium"
        },
        {
         "_deepnote_index_column": 3949,
         "approved": true,
         "category": "basic",
         "price": 2073,
         "targetPrice": 1840,
         "urgency": "high"
        },
        {
         "_deepnote_index_column": 3950,
         "approved": true,
         "category": "optional",
         "price": 1050,
         "targetPrice": 1030,
         "urgency": "high"
        },
        {
         "_deepnote_index_column": 3951,
         "approved": false,
         "category": "optional",
         "price": 897,
         "targetPrice": 540,
         "urgency": "high"
        },
        {
         "_deepnote_index_column": 3952,
         "approved": false,
         "category": "optional",
         "price": 3415,
         "targetPrice": 2920,
         "urgency": "low"
        },
        {
         "_deepnote_index_column": 3953,
         "approved": true,
         "category": "optional",
         "price": 2630,
         "targetPrice": 2360,
         "urgency": "high"
        },
        {
         "_deepnote_index_column": 3954,
         "approved": false,
         "category": "basic",
         "price": 892,
         "targetPrice": 690,
         "urgency": "low"
        },
        {
         "_deepnote_index_column": 3955,
         "approved": true,
         "category": "basic",
         "price": 2524,
         "targetPrice": 2240,
         "urgency": "high"
        },
        {
         "_deepnote_index_column": 3956,
         "approved": false,
         "category": "optional",
         "price": 3067,
         "targetPrice": 2590,
         "urgency": "high"
        },
        {
         "_deepnote_index_column": 3957,
         "approved": true,
         "category": "basic",
         "price": 3335,
         "targetPrice": 3240,
         "urgency": "medium"
        },
        {
         "_deepnote_index_column": 3958,
         "approved": true,
         "category": "basic",
         "price": 3167,
         "targetPrice": 2850,
         "urgency": "high"
        },
        {
         "_deepnote_index_column": 3959,
         "approved": true,
         "category": "optional",
         "price": 3625,
         "targetPrice": 3260,
         "urgency": "medium"
        },
        {
         "_deepnote_index_column": 3960,
         "approved": true,
         "category": "basic",
         "price": 1509,
         "targetPrice": 1450,
         "urgency": "medium"
        },
        {
         "_deepnote_index_column": 3961,
         "approved": false,
         "category": "basic",
         "price": 1106,
         "targetPrice": 640,
         "urgency": "high"
        },
        {
         "_deepnote_index_column": 3962,
         "approved": true,
         "category": "optional",
         "price": 3162,
         "targetPrice": 2970,
         "urgency": "low"
        },
        {
         "_deepnote_index_column": 3963,
         "approved": false,
         "category": "optional",
         "price": 2461,
         "targetPrice": 2060,
         "urgency": "high"
        },
        {
         "_deepnote_index_column": 3964,
         "approved": true,
         "category": "basic",
         "price": 2172,
         "targetPrice": 2020,
         "urgency": "high"
        },
        {
         "_deepnote_index_column": 3965,
         "approved": true,
         "category": "optional",
         "price": 1158,
         "targetPrice": 1010,
         "urgency": "high"
        },
        {
         "_deepnote_index_column": 3966,
         "approved": true,
         "category": "optional",
         "price": 3588,
         "targetPrice": 3440,
         "urgency": "high"
        },
        {
         "_deepnote_index_column": 3967,
         "approved": true,
         "category": "basic",
         "price": 3860,
         "targetPrice": 3470,
         "urgency": "medium"
        },
        {
         "_deepnote_index_column": 3968,
         "approved": true,
         "category": "basic",
         "price": 1914,
         "targetPrice": 1720,
         "urgency": "high"
        },
        {
         "_deepnote_index_column": 3969,
         "approved": true,
         "category": "basic",
         "price": 1330,
         "targetPrice": 1090,
         "urgency": "high"
        },
        {
         "_deepnote_index_column": 3970,
         "approved": false,
         "category": "optional",
         "price": 2521,
         "targetPrice": 2060,
         "urgency": "medium"
        },
        {
         "_deepnote_index_column": 3971,
         "approved": true,
         "category": "optional",
         "price": 3259,
         "targetPrice": 3030,
         "urgency": "low"
        },
        {
         "_deepnote_index_column": 3972,
         "approved": false,
         "category": "basic",
         "price": 128,
         "targetPrice": 90,
         "urgency": "low"
        },
        {
         "_deepnote_index_column": 3973,
         "approved": true,
         "category": "optional",
         "price": 2221,
         "targetPrice": 2220,
         "urgency": "high"
        },
        {
         "_deepnote_index_column": 3974,
         "approved": false,
         "category": "basic",
         "price": 1065,
         "targetPrice": 800,
         "urgency": "medium"
        },
        {
         "_deepnote_index_column": 3975,
         "approved": false,
         "category": "optional",
         "price": 426,
         "targetPrice": 110,
         "urgency": "medium"
        },
        {
         "_deepnote_index_column": 3976,
         "approved": true,
         "category": "basic",
         "price": 3252,
         "targetPrice": 2850,
         "urgency": "low"
        },
        {
         "_deepnote_index_column": 3977,
         "approved": true,
         "category": "optional",
         "price": 3084,
         "targetPrice": 2850,
         "urgency": "high"
        },
        {
         "_deepnote_index_column": 3978,
         "approved": false,
         "category": "basic",
         "price": 810,
         "targetPrice": 580,
         "urgency": "medium"
        },
        {
         "_deepnote_index_column": 3979,
         "approved": true,
         "category": "optional",
         "price": 2973,
         "targetPrice": 2940,
         "urgency": "low"
        },
        {
         "_deepnote_index_column": 3980,
         "approved": false,
         "category": "basic",
         "price": 1512,
         "targetPrice": 1220,
         "urgency": "low"
        },
        {
         "_deepnote_index_column": 3981,
         "approved": false,
         "category": "optional",
         "price": 999,
         "targetPrice": 600,
         "urgency": "high"
        },
        {
         "_deepnote_index_column": 3982,
         "approved": true,
         "category": "optional",
         "price": 1466,
         "targetPrice": 1450,
         "urgency": "low"
        },
        {
         "_deepnote_index_column": 3983,
         "approved": true,
         "category": "basic",
         "price": 2776,
         "targetPrice": 2370,
         "urgency": "high"
        },
        {
         "_deepnote_index_column": 3984,
         "approved": true,
         "category": "basic",
         "price": 3555,
         "targetPrice": 3090,
         "urgency": "high"
        },
        {
         "_deepnote_index_column": 3985,
         "approved": true,
         "category": "optional",
         "price": 1698,
         "targetPrice": 1560,
         "urgency": "low"
        },
        {
         "_deepnote_index_column": 3986,
         "approved": true,
         "category": "optional",
         "price": 694,
         "targetPrice": 640,
         "urgency": "high"
        },
        {
         "_deepnote_index_column": 3987,
         "approved": true,
         "category": "optional",
         "price": 1624,
         "targetPrice": 1540,
         "urgency": "low"
        },
        {
         "_deepnote_index_column": 3988,
         "approved": false,
         "category": "optional",
         "price": 2340,
         "targetPrice": 1920,
         "urgency": "low"
        },
        {
         "_deepnote_index_column": 3989,
         "approved": true,
         "category": "basic",
         "price": 2112,
         "targetPrice": 2010,
         "urgency": "low"
        },
        {
         "_deepnote_index_column": 3990,
         "approved": false,
         "category": "optional",
         "price": 974,
         "targetPrice": 570,
         "urgency": "low"
        },
        {
         "_deepnote_index_column": 3991,
         "approved": true,
         "category": "basic",
         "price": 2692,
         "targetPrice": 2620,
         "urgency": "high"
        },
        {
         "_deepnote_index_column": 3992,
         "approved": false,
         "category": "basic",
         "price": 2049,
         "targetPrice": 1690,
         "urgency": "medium"
        },
        {
         "_deepnote_index_column": 3993,
         "approved": true,
         "category": "optional",
         "price": 1405,
         "targetPrice": 1240,
         "urgency": "high"
        },
        {
         "_deepnote_index_column": 3994,
         "approved": false,
         "category": "basic",
         "price": 2102,
         "targetPrice": 1700,
         "urgency": "medium"
        },
        {
         "_deepnote_index_column": 3995,
         "approved": false,
         "category": "basic",
         "price": 903,
         "targetPrice": 580,
         "urgency": "high"
        },
        {
         "_deepnote_index_column": 3996,
         "approved": true,
         "category": "basic",
         "price": 3063,
         "targetPrice": 2950,
         "urgency": "high"
        },
        {
         "_deepnote_index_column": 3997,
         "approved": true,
         "category": "basic",
         "price": 1601,
         "targetPrice": 1600,
         "urgency": "low"
        },
        {
         "_deepnote_index_column": 3998,
         "approved": true,
         "category": "basic",
         "price": 1994,
         "targetPrice": 1890,
         "urgency": "high"
        },
        {
         "_deepnote_index_column": 3999,
         "approved": false,
         "category": "basic",
         "price": 2921,
         "targetPrice": 2540,
         "urgency": "low"
        }
       ],
       "rows_top": [
        {
         "_deepnote_index_column": 0,
         "approved": true,
         "category": "basic",
         "price": 837,
         "targetPrice": 790,
         "urgency": "medium"
        },
        {
         "_deepnote_index_column": 1,
         "approved": false,
         "category": "basic",
         "price": 1734,
         "targetPrice": 1250,
         "urgency": "high"
        },
        {
         "_deepnote_index_column": 2,
         "approved": false,
         "category": "optional",
         "price": 944,
         "targetPrice": 670,
         "urgency": "low"
        },
        {
         "_deepnote_index_column": 3,
         "approved": true,
         "category": "basic",
         "price": 1728,
         "targetPrice": 1550,
         "urgency": "medium"
        },
        {
         "_deepnote_index_column": 4,
         "approved": false,
         "category": "optional",
         "price": 988,
         "targetPrice": 630,
         "urgency": "medium"
        },
        {
         "_deepnote_index_column": 5,
         "approved": true,
         "category": "optional",
         "price": 2789,
         "targetPrice": 2650,
         "urgency": "medium"
        },
        {
         "_deepnote_index_column": 6,
         "approved": false,
         "category": "basic",
         "price": 1955,
         "targetPrice": 1570,
         "urgency": "medium"
        },
        {
         "_deepnote_index_column": 7,
         "approved": true,
         "category": "basic",
         "price": 1725,
         "targetPrice": 1630,
         "urgency": "low"
        },
        {
         "_deepnote_index_column": 8,
         "approved": false,
         "category": "optional",
         "price": 2610,
         "targetPrice": 2190,
         "urgency": "medium"
        },
        {
         "_deepnote_index_column": 9,
         "approved": false,
         "category": "optional",
         "price": 865,
         "targetPrice": 560,
         "urgency": "high"
        },
        {
         "_deepnote_index_column": 10,
         "approved": false,
         "category": "optional",
         "price": 871,
         "targetPrice": 460,
         "urgency": "medium"
        },
        {
         "_deepnote_index_column": 11,
         "approved": true,
         "category": "optional",
         "price": 3372,
         "targetPrice": 3130,
         "urgency": "medium"
        },
        {
         "_deepnote_index_column": 12,
         "approved": true,
         "category": "optional",
         "price": 2307,
         "targetPrice": 2000,
         "urgency": "high"
        },
        {
         "_deepnote_index_column": 13,
         "approved": true,
         "category": "basic",
         "price": 3607,
         "targetPrice": 3310,
         "urgency": "medium"
        },
        {
         "_deepnote_index_column": 14,
         "approved": false,
         "category": "basic",
         "price": 1193,
         "targetPrice": 910,
         "urgency": "low"
        },
        {
         "_deepnote_index_column": 15,
         "approved": false,
         "category": "basic",
         "price": 1228,
         "targetPrice": 810,
         "urgency": "medium"
        },
        {
         "_deepnote_index_column": 16,
         "approved": false,
         "category": "basic",
         "price": 1236,
         "targetPrice": 810,
         "urgency": "medium"
        },
        {
         "_deepnote_index_column": 17,
         "approved": true,
         "category": "basic",
         "price": 3131,
         "targetPrice": 2950,
         "urgency": "low"
        },
        {
         "_deepnote_index_column": 18,
         "approved": true,
         "category": "basic",
         "price": 3135,
         "targetPrice": 2750,
         "urgency": "medium"
        },
        {
         "_deepnote_index_column": 19,
         "approved": true,
         "category": "basic",
         "price": 2076,
         "targetPrice": 2060,
         "urgency": "low"
        },
        {
         "_deepnote_index_column": 20,
         "approved": true,
         "category": "basic",
         "price": 1200,
         "targetPrice": 1090,
         "urgency": "high"
        },
        {
         "_deepnote_index_column": 21,
         "approved": false,
         "category": "optional",
         "price": 2262,
         "targetPrice": 1940,
         "urgency": "medium"
        },
        {
         "_deepnote_index_column": 22,
         "approved": false,
         "category": "optional",
         "price": 410,
         "targetPrice": 110,
         "urgency": "medium"
        },
        {
         "_deepnote_index_column": 23,
         "approved": false,
         "category": "basic",
         "price": 403,
         "targetPrice": 220,
         "urgency": "medium"
        },
        {
         "_deepnote_index_column": 24,
         "approved": false,
         "category": "basic",
         "price": 1375,
         "targetPrice": 890,
         "urgency": "high"
        },
        {
         "_deepnote_index_column": 25,
         "approved": false,
         "category": "optional",
         "price": 3396,
         "targetPrice": 2910,
         "urgency": "medium"
        },
        {
         "_deepnote_index_column": 26,
         "approved": true,
         "category": "optional",
         "price": 851,
         "targetPrice": 810,
         "urgency": "low"
        },
        {
         "_deepnote_index_column": 27,
         "approved": false,
         "category": "basic",
         "price": 572,
         "targetPrice": 150,
         "urgency": "medium"
        },
        {
         "_deepnote_index_column": 28,
         "approved": false,
         "category": "optional",
         "price": 1882,
         "targetPrice": 1400,
         "urgency": "high"
        },
        {
         "_deepnote_index_column": 29,
         "approved": false,
         "category": "optional",
         "price": 3376,
         "targetPrice": 3020,
         "urgency": "low"
        },
        {
         "_deepnote_index_column": 30,
         "approved": false,
         "category": "optional",
         "price": 1919,
         "targetPrice": 1660,
         "urgency": "low"
        },
        {
         "_deepnote_index_column": 31,
         "approved": false,
         "category": "basic",
         "price": 458,
         "targetPrice": 110,
         "urgency": "medium"
        },
        {
         "_deepnote_index_column": 32,
         "approved": true,
         "category": "basic",
         "price": 2586,
         "targetPrice": 2260,
         "urgency": "high"
        },
        {
         "_deepnote_index_column": 33,
         "approved": false,
         "category": "basic",
         "price": 1862,
         "targetPrice": 1570,
         "urgency": "low"
        },
        {
         "_deepnote_index_column": 34,
         "approved": false,
         "category": "basic",
         "price": 584,
         "targetPrice": 420,
         "urgency": "high"
        },
        {
         "_deepnote_index_column": 35,
         "approved": false,
         "category": "optional",
         "price": 1204,
         "targetPrice": 960,
         "urgency": "low"
        },
        {
         "_deepnote_index_column": 36,
         "approved": false,
         "category": "basic",
         "price": 949,
         "targetPrice": 610,
         "urgency": "low"
        },
        {
         "_deepnote_index_column": 37,
         "approved": true,
         "category": "basic",
         "price": 2018,
         "targetPrice": 1790,
         "urgency": "high"
        },
        {
         "_deepnote_index_column": 38,
         "approved": true,
         "category": "basic",
         "price": 1731,
         "targetPrice": 1720,
         "urgency": "low"
        },
        {
         "_deepnote_index_column": 39,
         "approved": false,
         "category": "optional",
         "price": 2193,
         "targetPrice": 1770,
         "urgency": "medium"
        },
        {
         "_deepnote_index_column": 40,
         "approved": false,
         "category": "optional",
         "price": 1305,
         "targetPrice": 1160,
         "urgency": "medium"
        },
        {
         "_deepnote_index_column": 41,
         "approved": false,
         "category": "basic",
         "price": 1076,
         "targetPrice": 780,
         "urgency": "high"
        },
        {
         "_deepnote_index_column": 42,
         "approved": true,
         "category": "optional",
         "price": 692,
         "targetPrice": 610,
         "urgency": "high"
        },
        {
         "_deepnote_index_column": 43,
         "approved": false,
         "category": "basic",
         "price": 665,
         "targetPrice": 310,
         "urgency": "low"
        },
        {
         "_deepnote_index_column": 44,
         "approved": false,
         "category": "optional",
         "price": 852,
         "targetPrice": 750,
         "urgency": "medium"
        },
        {
         "_deepnote_index_column": 45,
         "approved": false,
         "category": "basic",
         "price": 2305,
         "targetPrice": 1870,
         "urgency": "medium"
        },
        {
         "_deepnote_index_column": 46,
         "approved": false,
         "category": "basic",
         "price": 2643,
         "targetPrice": 2160,
         "urgency": "low"
        },
        {
         "_deepnote_index_column": 47,
         "approved": false,
         "category": "optional",
         "price": 418,
         "targetPrice": 240,
         "urgency": "low"
        },
        {
         "_deepnote_index_column": 48,
         "approved": false,
         "category": "optional",
         "price": 2639,
         "targetPrice": 2260,
         "urgency": "low"
        },
        {
         "_deepnote_index_column": 49,
         "approved": true,
         "category": "basic",
         "price": 3239,
         "targetPrice": 3140,
         "urgency": "high"
        },
        {
         "_deepnote_index_column": 50,
         "approved": false,
         "category": "optional",
         "price": 1672,
         "targetPrice": 1460,
         "urgency": "low"
        },
        {
         "_deepnote_index_column": 51,
         "approved": true,
         "category": "basic",
         "price": 2322,
         "targetPrice": 1990,
         "urgency": "high"
        },
        {
         "_deepnote_index_column": 52,
         "approved": false,
         "category": "optional",
         "price": 2992,
         "targetPrice": 2590,
         "urgency": "low"
        },
        {
         "_deepnote_index_column": 53,
         "approved": false,
         "category": "basic",
         "price": 1270,
         "targetPrice": 1060,
         "urgency": "medium"
        },
        {
         "_deepnote_index_column": 54,
         "approved": true,
         "category": "basic",
         "price": 3647,
         "targetPrice": 3180,
         "urgency": "low"
        },
        {
         "_deepnote_index_column": 55,
         "approved": true,
         "category": "optional",
         "price": 1225,
         "targetPrice": 1130,
         "urgency": "low"
        },
        {
         "_deepnote_index_column": 56,
         "approved": true,
         "category": "basic",
         "price": 803,
         "targetPrice": 770,
         "urgency": "high"
        },
        {
         "_deepnote_index_column": 57,
         "approved": true,
         "category": "basic",
         "price": 3088,
         "targetPrice": 2810,
         "urgency": "low"
        },
        {
         "_deepnote_index_column": 58,
         "approved": true,
         "category": "optional",
         "price": 3439,
         "targetPrice": 3340,
         "urgency": "high"
        },
        {
         "_deepnote_index_column": 59,
         "approved": false,
         "category": "basic",
         "price": 470,
         "targetPrice": 310,
         "urgency": "low"
        },
        {
         "_deepnote_index_column": 60,
         "approved": true,
         "category": "basic",
         "price": 2155,
         "targetPrice": 2110,
         "urgency": "high"
        },
        {
         "_deepnote_index_column": 61,
         "approved": false,
         "category": "optional",
         "price": 2806,
         "targetPrice": 2410,
         "urgency": "low"
        },
        {
         "_deepnote_index_column": 62,
         "approved": false,
         "category": "optional",
         "price": 1062,
         "targetPrice": 720,
         "urgency": "medium"
        },
        {
         "_deepnote_index_column": 63,
         "approved": false,
         "category": "basic",
         "price": 2039,
         "targetPrice": 1560,
         "urgency": "low"
        },
        {
         "_deepnote_index_column": 64,
         "approved": false,
         "category": "basic",
         "price": 464,
         "targetPrice": 150,
         "urgency": "medium"
        },
        {
         "_deepnote_index_column": 65,
         "approved": false,
         "category": "optional",
         "price": 819,
         "targetPrice": 330,
         "urgency": "medium"
        },
        {
         "_deepnote_index_column": 66,
         "approved": false,
         "category": "optional",
         "price": 3220,
         "targetPrice": 2820,
         "urgency": "medium"
        },
        {
         "_deepnote_index_column": 67,
         "approved": false,
         "category": "optional",
         "price": 1117,
         "targetPrice": 770,
         "urgency": "low"
        },
        {
         "_deepnote_index_column": 68,
         "approved": true,
         "category": "optional",
         "price": 1683,
         "targetPrice": 1460,
         "urgency": "high"
        },
        {
         "_deepnote_index_column": 69,
         "approved": false,
         "category": "optional",
         "price": 1469,
         "targetPrice": 1250,
         "urgency": "medium"
        },
        {
         "_deepnote_index_column": 70,
         "approved": true,
         "category": "basic",
         "price": 3293,
         "targetPrice": 3150,
         "urgency": "high"
        },
        {
         "_deepnote_index_column": 71,
         "approved": false,
         "category": "optional",
         "price": 751,
         "targetPrice": 600,
         "urgency": "high"
        },
        {
         "_deepnote_index_column": 72,
         "approved": true,
         "category": "basic",
         "price": 2448,
         "targetPrice": 2280,
         "urgency": "low"
        },
        {
         "_deepnote_index_column": 73,
         "approved": true,
         "category": "basic",
         "price": 2909,
         "targetPrice": 2760,
         "urgency": "medium"
        },
        {
         "_deepnote_index_column": 74,
         "approved": false,
         "category": "basic",
         "price": 780,
         "targetPrice": 370,
         "urgency": "medium"
        },
        {
         "_deepnote_index_column": 75,
         "approved": true,
         "category": "optional",
         "price": 2571,
         "targetPrice": 2510,
         "urgency": "medium"
        },
        {
         "_deepnote_index_column": 76,
         "approved": false,
         "category": "basic",
         "price": 1305,
         "targetPrice": 870,
         "urgency": "high"
        },
        {
         "_deepnote_index_column": 77,
         "approved": false,
         "category": "basic",
         "price": 1794,
         "targetPrice": 1380,
         "urgency": "medium"
        },
        {
         "_deepnote_index_column": 78,
         "approved": true,
         "category": "basic",
         "price": 2544,
         "targetPrice": 2110,
         "urgency": "high"
        },
        {
         "_deepnote_index_column": 79,
         "approved": true,
         "category": "basic",
         "price": 3278,
         "targetPrice": 3060,
         "urgency": "high"
        },
        {
         "_deepnote_index_column": 80,
         "approved": true,
         "category": "optional",
         "price": 1100,
         "targetPrice": 1010,
         "urgency": "high"
        },
        {
         "_deepnote_index_column": 81,
         "approved": false,
         "category": "basic",
         "price": 2367,
         "targetPrice": 2050,
         "urgency": "low"
        },
        {
         "_deepnote_index_column": 82,
         "approved": true,
         "category": "optional",
         "price": 1428,
         "targetPrice": 1240,
         "urgency": "high"
        },
        {
         "_deepnote_index_column": 83,
         "approved": true,
         "category": "optional",
         "price": 2541,
         "targetPrice": 2520,
         "urgency": "medium"
        },
        {
         "_deepnote_index_column": 84,
         "approved": true,
         "category": "basic",
         "price": 3009,
         "targetPrice": 2960,
         "urgency": "high"
        },
        {
         "_deepnote_index_column": 85,
         "approved": false,
         "category": "optional",
         "price": 200,
         "targetPrice": 170,
         "urgency": "low"
        },
        {
         "_deepnote_index_column": 86,
         "approved": false,
         "category": "optional",
         "price": 1793,
         "targetPrice": 1610,
         "urgency": "low"
        },
        {
         "_deepnote_index_column": 87,
         "approved": true,
         "category": "optional",
         "price": 1565,
         "targetPrice": 1550,
         "urgency": "low"
        },
        {
         "_deepnote_index_column": 88,
         "approved": true,
         "category": "optional",
         "price": 3672,
         "targetPrice": 3340,
         "urgency": "low"
        },
        {
         "_deepnote_index_column": 89,
         "approved": true,
         "category": "basic",
         "price": 684,
         "targetPrice": 670,
         "urgency": "medium"
        },
        {
         "_deepnote_index_column": 90,
         "approved": false,
         "category": "basic",
         "price": 2433,
         "targetPrice": 2010,
         "urgency": "medium"
        },
        {
         "_deepnote_index_column": 91,
         "approved": true,
         "category": "optional",
         "price": 2915,
         "targetPrice": 2810,
         "urgency": "medium"
        },
        {
         "_deepnote_index_column": 92,
         "approved": true,
         "category": "basic",
         "price": 2039,
         "targetPrice": 1940,
         "urgency": "medium"
        },
        {
         "_deepnote_index_column": 93,
         "approved": true,
         "category": "basic",
         "price": 3017,
         "targetPrice": 2800,
         "urgency": "medium"
        },
        {
         "_deepnote_index_column": 94,
         "approved": true,
         "category": "basic",
         "price": 3572,
         "targetPrice": 3370,
         "urgency": "medium"
        },
        {
         "_deepnote_index_column": 95,
         "approved": false,
         "category": "basic",
         "price": 759,
         "targetPrice": 470,
         "urgency": "low"
        },
        {
         "_deepnote_index_column": 96,
         "approved": false,
         "category": "optional",
         "price": 416,
         "targetPrice": 180,
         "urgency": "high"
        },
        {
         "_deepnote_index_column": 97,
         "approved": false,
         "category": "optional",
         "price": 1551,
         "targetPrice": 1400,
         "urgency": "low"
        },
        {
         "_deepnote_index_column": 98,
         "approved": true,
         "category": "basic",
         "price": 2370,
         "targetPrice": 2150,
         "urgency": "low"
        },
        {
         "_deepnote_index_column": 99,
         "approved": false,
         "category": "basic",
         "price": 1840,
         "targetPrice": 1370,
         "urgency": "medium"
        }
       ]
      },
      "text/html": [
       "<div>\n",
       "<style scoped>\n",
       "    .dataframe tbody tr th:only-of-type {\n",
       "        vertical-align: middle;\n",
       "    }\n",
       "\n",
       "    .dataframe tbody tr th {\n",
       "        vertical-align: top;\n",
       "    }\n",
       "\n",
       "    .dataframe thead th {\n",
       "        text-align: right;\n",
       "    }\n",
       "</style>\n",
       "<table border=\"1\" class=\"dataframe\">\n",
       "  <thead>\n",
       "    <tr style=\"text-align: right;\">\n",
       "      <th></th>\n",
       "      <th>category</th>\n",
       "      <th>urgency</th>\n",
       "      <th>targetPrice</th>\n",
       "      <th>price</th>\n",
       "      <th>approved</th>\n",
       "    </tr>\n",
       "  </thead>\n",
       "  <tbody>\n",
       "    <tr>\n",
       "      <th>0</th>\n",
       "      <td>basic</td>\n",
       "      <td>medium</td>\n",
       "      <td>790</td>\n",
       "      <td>837</td>\n",
       "      <td>True</td>\n",
       "    </tr>\n",
       "    <tr>\n",
       "      <th>1</th>\n",
       "      <td>basic</td>\n",
       "      <td>high</td>\n",
       "      <td>1250</td>\n",
       "      <td>1734</td>\n",
       "      <td>False</td>\n",
       "    </tr>\n",
       "    <tr>\n",
       "      <th>2</th>\n",
       "      <td>optional</td>\n",
       "      <td>low</td>\n",
       "      <td>670</td>\n",
       "      <td>944</td>\n",
       "      <td>False</td>\n",
       "    </tr>\n",
       "    <tr>\n",
       "      <th>3</th>\n",
       "      <td>basic</td>\n",
       "      <td>medium</td>\n",
       "      <td>1550</td>\n",
       "      <td>1728</td>\n",
       "      <td>True</td>\n",
       "    </tr>\n",
       "    <tr>\n",
       "      <th>4</th>\n",
       "      <td>optional</td>\n",
       "      <td>medium</td>\n",
       "      <td>630</td>\n",
       "      <td>988</td>\n",
       "      <td>False</td>\n",
       "    </tr>\n",
       "    <tr>\n",
       "      <th>...</th>\n",
       "      <td>...</td>\n",
       "      <td>...</td>\n",
       "      <td>...</td>\n",
       "      <td>...</td>\n",
       "      <td>...</td>\n",
       "    </tr>\n",
       "    <tr>\n",
       "      <th>3995</th>\n",
       "      <td>basic</td>\n",
       "      <td>high</td>\n",
       "      <td>580</td>\n",
       "      <td>903</td>\n",
       "      <td>False</td>\n",
       "    </tr>\n",
       "    <tr>\n",
       "      <th>3996</th>\n",
       "      <td>basic</td>\n",
       "      <td>high</td>\n",
       "      <td>2950</td>\n",
       "      <td>3063</td>\n",
       "      <td>True</td>\n",
       "    </tr>\n",
       "    <tr>\n",
       "      <th>3997</th>\n",
       "      <td>basic</td>\n",
       "      <td>low</td>\n",
       "      <td>1600</td>\n",
       "      <td>1601</td>\n",
       "      <td>True</td>\n",
       "    </tr>\n",
       "    <tr>\n",
       "      <th>3998</th>\n",
       "      <td>basic</td>\n",
       "      <td>high</td>\n",
       "      <td>1890</td>\n",
       "      <td>1994</td>\n",
       "      <td>True</td>\n",
       "    </tr>\n",
       "    <tr>\n",
       "      <th>3999</th>\n",
       "      <td>basic</td>\n",
       "      <td>low</td>\n",
       "      <td>2540</td>\n",
       "      <td>2921</td>\n",
       "      <td>False</td>\n",
       "    </tr>\n",
       "  </tbody>\n",
       "</table>\n",
       "<p>4000 rows × 5 columns</p>\n",
       "</div>"
      ],
      "text/plain": [
       "      category urgency  targetPrice  price  approved\n",
       "0        basic  medium          790    837      True\n",
       "1        basic    high         1250   1734     False\n",
       "2     optional     low          670    944     False\n",
       "3        basic  medium         1550   1728      True\n",
       "4     optional  medium          630    988     False\n",
       "...        ...     ...          ...    ...       ...\n",
       "3995     basic    high          580    903     False\n",
       "3996     basic    high         2950   3063      True\n",
       "3997     basic     low         1600   1601      True\n",
       "3998     basic    high         1890   1994      True\n",
       "3999     basic     low         2540   2921     False\n",
       "\n",
       "[4000 rows x 5 columns]"
      ]
     },
     "execution_count": 6,
     "metadata": {},
     "output_type": "execute_result"
    }
   ],
   "source": [
    "import pandas\n",
    "\n",
    "data = pandas.read_csv(\"https://raw.githubusercontent.com/DigiBP/digibp-camunda-classroom/master/modelling/pmml/order-approval.csv\", sep = \",\")\n",
    "\n",
    "data"
   ]
  },
  {
   "cell_type": "markdown",
   "metadata": {
    "cell_id": "00005-38715fd4-f6d2-46bc-8070-334953f39c6f",
    "deepnote_cell_type": "markdown",
    "id": "wLYOC5z0KVTW"
   },
   "source": [
    "## 2. Map Categories to Numbers\n",
    "If we investigate the output of the loaded data in the previous step, we see, that **category** and **urgency** are some categorical strings. To feed that data into our ML model, we need to convert and map the categorical strings to numbers. So we map...: \n",
    "- category *optional* to 0\n",
    "- category *basic* to 1\n",
    "- urgency *low* to 0\n",
    "- urgency *medium* to 1\n",
    "- urgency *high* to 2"
   ]
  },
  {
   "cell_type": "code",
   "execution_count": 7,
   "metadata": {
    "cell_id": "00006-d4ad62ab-b1a4-4ba1-a684-31ad1ab15009",
    "deepnote_cell_type": "code",
    "deepnote_to_be_reexecuted": false,
    "execution_millis": 76,
    "execution_start": 1637183521271,
    "id": "5n3_Vp9tGrqR",
    "output_cleared": true,
    "source_hash": "2dfb20c8"
   },
   "outputs": [],
   "source": [
    "category = {'optional': 0,'basic': 1}\n",
    "data.category = [category[item] for item in data.category]\n",
    "urgency = {'low': 0,'medium': 1,'high': 2}\n",
    "data.urgency = [urgency[item] for item in data.urgency]\n",
    "\n",
    "data"
   ]
  },
  {
   "cell_type": "markdown",
   "metadata": {
    "cell_id": "00007-33cbe1f5-ad27-47d6-b921-9280dda507f1",
    "deepnote_cell_type": "markdown",
    "id": "AXzXRqOQtU-5"
   },
   "source": [
    "## 3. Data Segregation and Feature Selection\n",
    "If we investigate the output of the mapped data in the previous step, we see, that we have **category**, **urgency**, **target price** and actual **price** features with \"input\" data, or in ML terminology **samples/design matrix** usually denoted as **X**.\n",
    "\n",
    "The **approved** column is the \"output or decision\" data, or in ML terminology the **target values** denoted as **y**.\n",
    "\n",
    "For further processing, we need to segregate **X** and **y** as follows."
   ]
  },
  {
   "cell_type": "code",
   "execution_count": 8,
   "metadata": {
    "cell_id": "00008-8e379154-b4d4-4e42-bda0-1c3965448363",
    "deepnote_cell_type": "code",
    "deepnote_to_be_reexecuted": false,
    "execution_millis": 2,
    "execution_start": 1637183641674,
    "id": "UHCtfFvAss1d",
    "output_cleared": true,
    "source_hash": "5a26a46d"
   },
   "outputs": [],
   "source": [
    "X_data = data.drop('approved',axis=1)\n",
    "y_data = data.approved\n",
    "\n",
    "print(\"X Data:\\n\", X_data)\n",
    "print(\"y Data:\\n\", y_data)"
   ]
  },
  {
   "cell_type": "markdown",
   "metadata": {
    "cell_id": "00009-7b5f407a-7422-4a22-87a9-41ed4da08e1b",
    "deepnote_cell_type": "markdown",
    "id": "trBM0nGkKhsn"
   },
   "source": [
    "## 4. Data Partitioning\n",
    "Training or, in ML terminology, fitting a model to data, does not mean that it will produce acceptable predictions on new data. Therefore, we split / partition the data set into a training and a testing set to be able to evaluate the performance. To accomplish this, the function [`train_test_split`](https://scikit-learn.org/stable/modules/generated/sklearn.model_selection.train_test_split.html) of scikit-learn can be used.\n",
    "- In the following, we slit the X and y data sets by 60% training and 40% testing sets defined by the `test_size=0.40` parameter.\n",
    "- The `random_state=` parameter can be adjusted from `none` to an *int* value for a reproducible output across multiple executions."
   ]
  },
  {
   "cell_type": "code",
   "execution_count": 9,
   "metadata": {
    "cell_id": "00010-21793625-af33-43e5-ad73-8e45552df563",
    "deepnote_cell_type": "code",
    "deepnote_to_be_reexecuted": false,
    "execution_millis": 1492,
    "execution_start": 1637183645971,
    "id": "4XvJsAxZGu2y",
    "output_cleared": true,
    "source_hash": "1a30b79"
   },
   "outputs": [],
   "source": [
    "from sklearn.model_selection import train_test_split\n",
    "\n",
    "X_train, X_test, y_train, y_test = train_test_split(X_data, y_data, test_size=0.40, random_state=None)\n",
    "\n",
    "print(\"X_train:\\n\", X_train)\n",
    "print(\"y_train:\\n\", y_train)\n",
    "print(\"X_test:\\n\", X_test)\n",
    "print(\"y_test:\\n\", y_test)"
   ]
  },
  {
   "cell_type": "markdown",
   "metadata": {
    "cell_id": "00011-ae75f184-bf37-4bf7-b58a-b6ecc31bfb24",
    "deepnote_cell_type": "markdown",
    "id": "egxy546KQMCA"
   },
   "source": [
    "### 🚧 Supplementary Tasks\n",
    "1. Try to adjust the split parameter `test_size=`, e.g., 80/20, 70/30, 75/25 or even 50/50.\n",
    "2. Investigate what happens when the `random_state=` parameter is, e.g., `0`."
   ]
  },
  {
   "cell_type": "markdown",
   "metadata": {
    "cell_id": "00012-ccf7f719-f703-4d94-9639-0fa06b1d0f19",
    "deepnote_cell_type": "markdown",
    "id": "3MisMN8DPARA"
   },
   "source": [
    "## 5. Initialize Learner\n",
    "Now we are going to initialize the learner for our classification problem. Sklearn provides a vide range of models for supervised and unsupervised learning. Andre Ye (2021) has provided on [Medium, towards data science,](https://towardsdatascience.com/your-ultimate-data-mining-machine-learning-cheat-sheet-9fce3fa16) a nice cheat-cheat for sklearn which can be recommended for further reading. From him, the following Fig 5a has been taken, showcasing a subset of the most important classifiers in sklearn.\n",
    "\n",
    "![](https://raw.githubusercontent.com/DigiBP/digibp-camunda-classroom/master/modelling/pmml/sklearn%20classifier%20models%20Ye%2C%202021.png)\n",
    "\n",
    "**Fig 5a**: sklearn classifier models ([Ye, 2021](https://towardsdatascience.com/your-ultimate-data-mining-machine-learning-cheat-sheet-9fce3fa16))"
   ]
  },
  {
   "cell_type": "markdown",
   "metadata": {
    "cell_id": "00013-cf2aa635-ba5b-44fb-bebc-ecc4ed954d03",
    "deepnote_cell_type": "markdown",
    "id": "WDwdMVOFLKXC"
   },
   "source": [
    "### Logistic Regression\n",
    "\n",
    "Our default model in this tutorial will be a linear model called `LogisticRegression`. Even if the name suggests otherwise, this is a linear model for classification rather than regression.\n",
    "\n",
    "> Classification vs. regression: **classification** is about predicting an assignment to a **class**, whereas **regression** is about predicting a certain **score**. \n",
    "\n",
    "So we are going to initialize a logistic regression (logit) model from scikit-learn by importing and using [`LogisticRegression`](https://scikit-learn.org/stable/modules/generated/sklearn.linear_model.LogisticRegression.html) with the following parameters:\n",
    "- `max_iter=1000` defines the maximum number of iterations taken for the solvers to converge.\n",
    "- `multi_class='auto'` is automatically selecting an appropriate approach; in binary situations, it uses the one-vs-rest (OvR) approach.\n"
   ]
  },
  {
   "cell_type": "code",
   "execution_count": 10,
   "metadata": {
    "cell_id": "00014-12e31467-d22d-4c17-83b3-9ae3f028979b",
    "deepnote_cell_type": "code",
    "deepnote_to_be_reexecuted": false,
    "execution_millis": 77,
    "execution_start": 1637183652545,
    "id": "h8pt4Rk5G1Bq",
    "output_cleared": true,
    "source_hash": "51684b9b"
   },
   "outputs": [],
   "source": [
    "from sklearn.linear_model import LogisticRegression\n",
    "\n",
    "model = LogisticRegression(max_iter=1000, multi_class='auto')\n",
    "\n",
    "print(\"Model: \", model)"
   ]
  },
  {
   "cell_type": "markdown",
   "metadata": {
    "cell_id": "00015-cb50809d-b115-44e7-ab3f-592f4eb18875",
    "deepnote_cell_type": "markdown",
    "id": "xGw7HiJwQtB4"
   },
   "source": [
    "### 🚧 Supplementary Tasks\n",
    "Try to experiment with other classification models from sklearn as well:"
   ]
  },
  {
   "cell_type": "code",
   "execution_count": null,
   "metadata": {
    "cell_id": "00016-8e681d7e-12be-408c-a494-5d747e084c9a",
    "deepnote_cell_type": "code",
    "id": "U9c5Mx57G9Ph"
   },
   "outputs": [],
   "source": [
    "from sklearn.tree import DecisionTreeClassifier\n",
    "model = DecisionTreeClassifier()"
   ]
  },
  {
   "cell_type": "code",
   "execution_count": null,
   "metadata": {
    "cell_id": "00017-adeb3c02-6dd2-4009-826f-3c6a10fcd794",
    "deepnote_cell_type": "code",
    "id": "CBVxmGdajsw-"
   },
   "outputs": [],
   "source": [
    "from sklearn.svm import SVC\n",
    "model = SVC()"
   ]
  },
  {
   "cell_type": "code",
   "execution_count": null,
   "metadata": {
    "cell_id": "00018-7a6c6e96-f8d0-47e3-8d47-ddb89b26e761",
    "deepnote_cell_type": "code",
    "id": "BKHwN0nsjwPi"
   },
   "outputs": [],
   "source": [
    "from sklearn.naive_bayes import GaussianNB\n",
    "model = GaussianNB()"
   ]
  },
  {
   "cell_type": "code",
   "execution_count": null,
   "metadata": {
    "cell_id": "00019-243c5d48-7e03-42bf-b80d-2c7bbb2836de",
    "deepnote_cell_type": "code",
    "id": "qCIPSciUjyGQ"
   },
   "outputs": [],
   "source": [
    "from sklearn.neighbors import KNeighborsClassifier\n",
    "model = KNeighborsClassifier()"
   ]
  },
  {
   "cell_type": "markdown",
   "metadata": {
    "cell_id": "00020-c34906d6-fb79-435a-8f27-9b9b6de33fdc",
    "deepnote_cell_type": "markdown",
    "id": "M1WtEuqWkU0Z"
   },
   "source": [
    "> ‼️ You can only initialize one model per run of the pipeline."
   ]
  },
  {
   "cell_type": "markdown",
   "metadata": {
    "cell_id": "00021-1a1ed712-d448-40ed-990a-847c4d3997c4",
    "deepnote_cell_type": "markdown",
    "id": "Qz6qiXWAj8wY"
   },
   "source": [
    "## 6. Tune Class Weights\n",
    "The author, Donato Marrazzo (Red Hat, Inc.), of the article ([[2]](https://developers.redhat.com/blog/2021/01/14/knowledge-meets-machine-learning-for-smarter-decisions-part-1#conclusion)) from which this dataset is from had an interesting idea. It maybe would be better to reject a correct expense claim than to accept an incorrect one, as rejected expense claims can be re-verified by humans. Therefore, one could try to reduce the weight of accepted expense claims.\n",
    "\n",
    "Therefore, it might be worth considering setting the weight of rejected (`False`) claims to 1 (`False : 1`) and that of accepted (`True`) cases to about 0.6 (`True : 0.6`).\n"
   ]
  },
  {
   "cell_type": "code",
   "execution_count": 11,
   "metadata": {
    "cell_id": "00022-ef03212e-e2fe-4e6c-b22f-ba6465d34b79",
    "deepnote_cell_type": "code",
    "deepnote_to_be_reexecuted": false,
    "execution_millis": 4,
    "execution_start": 1637183658055,
    "id": "3AdUg58NHN2J",
    "output_cleared": true,
    "source_hash": "1cb62d1"
   },
   "outputs": [],
   "source": [
    "model.class_weight ={\n",
    "    False : 1,\n",
    "    True : 0.6\n",
    "}\n",
    "\n",
    "print(\"Model: \", model)"
   ]
  },
  {
   "cell_type": "markdown",
   "metadata": {
    "cell_id": "00023-cd3b3f64-6645-4985-a722-04dc96afa679",
    "deepnote_cell_type": "markdown",
    "id": "_nlWoofZ1Sxi"
   },
   "source": [
    "### 🚧 Supplementary Tasks\n",
    "\n",
    "Try experimenting with other weight values as well."
   ]
  },
  {
   "cell_type": "markdown",
   "metadata": {
    "cell_id": "00024-a1adc119-dacf-4b03-b384-5e8b0bd3b2d6",
    "deepnote_cell_type": "markdown",
    "id": "dfQUl4mx1ggh"
   },
   "source": [
    "## 7. Train Model\n",
    "Now we can train the configured model on the training set by using the sklearn `fit` method."
   ]
  },
  {
   "cell_type": "code",
   "execution_count": 12,
   "metadata": {
    "cell_id": "00025-bd91a2de-2fcb-44f1-a887-3d813548567f",
    "deepnote_cell_type": "code",
    "deepnote_to_be_reexecuted": false,
    "execution_millis": 508,
    "execution_start": 1637183662775,
    "id": "rjDLhNHsHVlz",
    "output_cleared": true,
    "source_hash": "69d3b53d"
   },
   "outputs": [],
   "source": [
    "model.fit(X_train, y_train)"
   ]
  },
  {
   "cell_type": "markdown",
   "metadata": {
    "cell_id": "00026-6e8a25fa-bb30-4cff-bfa4-f02cc2ff28ce",
    "deepnote_cell_type": "markdown",
    "id": "DSWa4xZU17qN"
   },
   "source": [
    "## 8. Make Predictions\n",
    "\n",
    "After training, we can use our testing set to make predictions by using the `predict` method sklearn. With the prediction, we can now retrieve and calculate performance metrics."
   ]
  },
  {
   "cell_type": "code",
   "execution_count": 13,
   "metadata": {
    "cell_id": "00027-3bace296-17fc-4a98-a65d-9711edacc715",
    "deepnote_cell_type": "code",
    "deepnote_to_be_reexecuted": false,
    "execution_millis": 6,
    "execution_start": 1637183667171,
    "id": "rcu9urPpHYRz",
    "output_cleared": true,
    "source_hash": "f7bd19fe"
   },
   "outputs": [],
   "source": [
    "y_pred = model.predict(X_test)\n",
    "\n",
    "print(\"Predictions (y): \", y_pred)"
   ]
  },
  {
   "cell_type": "markdown",
   "metadata": {
    "cell_id": "00028-73d4325a-0f2b-44bc-a811-458b975ff80a",
    "deepnote_cell_type": "markdown",
    "id": "4gWLPieRliOL"
   },
   "source": [
    "## 9. Scoring\n",
    "Using various scoring metrics, we can examine how well the trained model performs on the test set."
   ]
  },
  {
   "cell_type": "markdown",
   "metadata": {
    "cell_id": "00029-97357db6-74cb-473b-a8e3-9bdd6ce1d518",
    "deepnote_cell_type": "markdown",
    "id": "vf8hL2NoMiqT"
   },
   "source": [
    "### 9.1 Precision, Recall, F1 and Accuracy\n",
    "In the following, multiple methods of sklearn are used to get overall precision, recall, F1 and overall accuracy.\n",
    "\n",
    "\n",
    "> In a binary classification, the precision indicates the ratio of correctly predicted positive results (TP) in relation to the total of all results predicted as positive (TP + FP). The recall indicates the ratio of results correctly classified as positive (TP) in relation to the total of actually positive results (TP + FN).\n",
    "\n",
    "\n",
    "> In general, the F1 score is the mean of precision and recall. The accuracy score assesses the accuracy of the correct predictions."
   ]
  },
  {
   "cell_type": "code",
   "execution_count": 14,
   "metadata": {
    "cell_id": "00030-0537b439-a5f5-49ac-afca-cfdc20cf1619",
    "deepnote_cell_type": "code",
    "deepnote_to_be_reexecuted": false,
    "execution_millis": 14,
    "execution_start": 1637183671444,
    "id": "XwoHVCa4HbMy",
    "output_cleared": true,
    "source_hash": "cc84366"
   },
   "outputs": [],
   "source": [
    "from sklearn.metrics import recall_score, precision_score, f1_score, accuracy_score\n",
    "\n",
    "RS = recall_score(y_test, y_pred)\n",
    "print(f\"Recall Score (RS): {100 * RS:.2f}%\")\n",
    "\n",
    "PS = precision_score(y_test, y_pred)\n",
    "print(f\"Precision Score (PS): {100 * PS:.2f}%\")\n",
    "\n",
    "F1 = f1_score(y_test, y_pred)\n",
    "print(f\"F1: {100 * F1:.2f}%\")\n",
    "\n",
    "AS = accuracy_score(y_test, y_pred)\n",
    "print(f\"Accuracy Score (AS): {100 * AS:.2f}%\")"
   ]
  },
  {
   "cell_type": "markdown",
   "metadata": {
    "cell_id": "00031-e37ea229-bae0-468b-871e-c285cfd15d1c",
    "deepnote_cell_type": "markdown",
    "id": "ksM79E-Tzfco"
   },
   "source": [
    "In the following, a classification report can be generated by using the `classification_report` method of sklearn to get precision, recall and F1 on each class or label."
   ]
  },
  {
   "cell_type": "code",
   "execution_count": 15,
   "metadata": {
    "cell_id": "00032-cfb58762-ca7a-4636-865d-f3720e8e8a1e",
    "deepnote_cell_type": "code",
    "deepnote_to_be_reexecuted": false,
    "execution_millis": 19,
    "execution_start": 1637183677280,
    "id": "gJmYhVCFK7fe",
    "output_cleared": true,
    "source_hash": "276f56dd"
   },
   "outputs": [],
   "source": [
    "from sklearn.metrics import classification_report\n",
    "\n",
    "CR = classification_report(y_test, y_pred)\n",
    "\n",
    "print(\"Classification Report (CR):\\n\", CR)"
   ]
  },
  {
   "cell_type": "markdown",
   "metadata": {
    "cell_id": "00033-9fa32cd9-7c26-4d34-b575-777337be5fca",
    "deepnote_cell_type": "markdown",
    "id": "GCHNmuuo6HaU"
   },
   "source": [
    "### 9.2 Confusion Matrix\n",
    "In the following, a confusion matrix can be generated by using the `confusion_matrix` method of sklearn.\n",
    "\n",
    "> In binary classification problems, the confusion matrix consists of the number of true positive (TP), true negative (TN), false positive (FP) and false negative (FN) predictions."
   ]
  },
  {
   "cell_type": "code",
   "execution_count": 16,
   "metadata": {
    "cell_id": "00034-911a841e-c1ed-473a-81a9-fc012086c113",
    "deepnote_cell_type": "code",
    "deepnote_to_be_reexecuted": false,
    "execution_millis": 5,
    "execution_start": 1637183685104,
    "id": "KhfWmimb6N3V",
    "output_cleared": true,
    "source_hash": "dc46b947"
   },
   "outputs": [],
   "source": [
    "from sklearn.metrics import confusion_matrix\n",
    "\n",
    "CM = confusion_matrix(y_test, y_pred)\n",
    "\n",
    "print(\"Confusion Matrix (CM):\\n\", CM)"
   ]
  },
  {
   "cell_type": "markdown",
   "metadata": {
    "cell_id": "00035-03838af6-ab9e-413d-bf41-298e5a110ead",
    "deepnote_cell_type": "markdown",
    "id": "DJyoUg3xRg0O"
   },
   "source": [
    "The generated confusion matrix can be plotted with `ConfusionMatrixDisplay` of sklearn."
   ]
  },
  {
   "cell_type": "code",
   "execution_count": 17,
   "metadata": {
    "cell_id": "00036-1f25031c-e661-43ae-ad8d-c3ed71236c7a",
    "colab": {
     "base_uri": "https://localhost:8080/",
     "height": 297
    },
    "deepnote_cell_type": "code",
    "deepnote_to_be_reexecuted": false,
    "execution_millis": 1576,
    "execution_start": 1637183689059,
    "id": "F4KieqbA6dCX",
    "outputId": "906af494-f8bb-4e9c-a08e-35b9deb56856",
    "source_hash": "b5d274d"
   },
   "outputs": [
    {
     "data": {
      "text/plain": [
       "<sklearn.metrics._plot.confusion_matrix.ConfusionMatrixDisplay at 0x7fdd5a336a10>"
      ]
     },
     "execution_count": 17,
     "metadata": {},
     "output_type": "execute_result"
    },
    {
     "data": {
      "image/png": "[encoded data removed]",
      "text/plain": [
       "<Figure size 432x288 with 2 Axes>"
      ]
     },
     "metadata": {
      "image/png": {
       "height": 266,
       "width": 331
      },
      "needs_background": "light"
     },
     "output_type": "display_data"
    }
   ],
   "source": [
    "from sklearn.metrics import ConfusionMatrixDisplay\n",
    "\n",
    "disp = ConfusionMatrixDisplay(confusion_matrix=CM, display_labels=model.classes_)\n",
    "disp.plot(values_format='')"
   ]
  },
  {
   "cell_type": "markdown",
   "metadata": {
    "cell_id": "00037-8839a812-b4b6-4a8a-905b-6f84ced8cb4d",
    "deepnote_cell_type": "markdown",
    "id": "-E3zQl_zAGkF"
   },
   "source": [
    "#### Interpreting the Confusion Matrix\n",
    "In a binary classification problem (as it is the case in this application scenario), one can interpret the plot as follows:\n",
    "- Top-right: Number of cases where they actually not have a true label and the true label was predicted. So it is (**FP**) **F**alse that it is true (**P**ositive). In our case, we must minimize this!\n",
    "- Bottom-left: Number of cases where they actually have a true label and the true label was not predicted. So it is (**FN**) **F**alse that it is false (**N**egative). In our case, we maybe can minimize this.\n",
    "- Top-left: Number of cases where they actually not have a true label and the true label was not predicted. So it is (**TN**) **T**rue that it is false (**N**egative).\n",
    "- Bottom-right: Number of cases where they actually have the true label and the true label was predicted. So it is (**TP**) **T**rue that it is true (**P**ositive)."
   ]
  },
  {
   "cell_type": "markdown",
   "metadata": {
    "cell_id": "00038-b06af6be-6908-4839-9225-d7e9d03e7afd",
    "deepnote_cell_type": "markdown",
    "id": "87LVknNFM_kt"
   },
   "source": [
    "## 10. PMML Export\n",
    "Finally, the trained model can now be exported with the library [sklearn2pmml](https://github.com/jpmml/sklearn2pmml) to PMML.\n",
    "\n",
    "> If necessary, the `sklearn2pmml` must be organised in advance via pip. Since `sklearn2pmml` requires the JRE (Java Runtime Environment), JRE may have to be installed beforehand, depending on the Jupyter environment.\n"
   ]
  },
  {
   "cell_type": "code",
   "execution_count": 19,
   "metadata": {
    "cell_id": "00039-5d235841-baca-4ad3-8d76-b08eaa9d19a9",
    "deepnote_cell_type": "code",
    "deepnote_to_be_reexecuted": false,
    "execution_millis": 120,
    "execution_start": 1637183739811,
    "id": "BWiFo0Y7DydI",
    "output_cleared": true,
    "source_hash": "c955be18"
   },
   "outputs": [],
   "source": [
    "try:\n",
    "    import sklearn2pmml\n",
    "except ImportError as e:\n",
    "    !pip -q install sklearn2pmml\n",
    "from sklearn2pmml import _java_version\n",
    "java_version = _java_version(\"UTF-8\")\n",
    "if java_version is None:\n",
    "    !sudo apt -qq update\n",
    "    !sudo apt -qq install -y default-jre\n",
    "    java_version = _java_version(\"UTF-8\")\n",
    "\n",
    "print(java_version)"
   ]
  },
  {
   "cell_type": "markdown",
   "metadata": {
    "cell_id": "00040-364a4bda-968b-4cb4-ba8e-51adc0bb5955",
    "deepnote_cell_type": "markdown",
    "id": "Qal5EOXKGzpn"
   },
   "source": [
    "Afterwards, a pipeline can be initialised and a PMML file can be written."
   ]
  },
  {
   "cell_type": "code",
   "execution_count": 20,
   "metadata": {
    "cell_id": "00041-1a03cd9a-bede-443e-867e-f97c37908f47",
    "deepnote_cell_type": "code",
    "deepnote_to_be_reexecuted": false,
    "execution_millis": 2917,
    "execution_start": 1637183743873,
    "id": "DKrwTdECHurK",
    "source_hash": "56d234bf"
   },
   "outputs": [],
   "source": [
    "from sklearn2pmml import make_pmml_pipeline, sklearn2pmml\n",
    "\n",
    "pipeline = make_pmml_pipeline(\n",
    "    model,\n",
    "    active_fields= [\"category\", \"urgency\", \"targetPrice\", \"price\"],\n",
    "    target_fields= [\"approved\"]\n",
    ")\n",
    "sklearn2pmml(pipeline, \"order-approval-sklearn.pmml\")"
   ]
  },
  {
   "cell_type": "markdown",
   "metadata": {
    "cell_id": "00042-ff77e942-df9c-486b-aa92-22874dfd450e",
    "deepnote_cell_type": "markdown"
   },
   "source": [
    "## 11. PMML Deployment\n",
    "After we have created the PMML file, we can upload it to the Camunda Platform with the Camunda Modeler as shown in Fig 11.\n",
    "\n",
    "![](https://github.com/DigiBP/digibp-camunda-classroom/raw/master/modelling/pmml/order-approval-camunda-pmml-deploy.png)\n",
    "\n",
    "**Fig 11**: deployment of models and other files (e.g., PMML files) with the Camunda Modeler\n",
    "\n",
    "For the next step 11 (or alternative step 14), we need to investigate the `deployment-id` of the deployments within the Camunda Platform Cockpit."
   ]
  },
  {
   "cell_type": "markdown",
   "metadata": {
    "cell_id": "00043-40ffb424-3824-49db-81e3-34007cf06001",
    "deepnote_cell_type": "markdown",
    "tags": []
   },
   "source": [
    "## 12. PMML Testing\n",
    "For executing the PMML files together with a Camunda Workflow, we can use the provided classroom instantiation, which has been extended with `jpmml`, the [Java PMML API](https://github.com/jpmml). Now can use the obtained `deployment-id` to construct the `requests` url - **so please change the following** `deployment_id`."
   ]
  },
  {
   "cell_type": "code",
   "execution_count": 21,
   "metadata": {
    "cell_id": "00044-064fe01b-5636-4c42-9d7a-51941b39418f",
    "deepnote_cell_type": "code",
    "deepnote_to_be_reexecuted": false,
    "execution_millis": 7,
    "execution_start": 1637183755794,
    "output_cleared": true,
    "source_hash": "95aafbba",
    "tags": []
   },
   "outputs": [],
   "source": [
    "deployment_id = \"f85423d8-47e1-11ec-834e-eea2248ab9a4\" # please change the deployment-id!\n",
    "file_name = \"order-approval-sklearn.pmml\"\n",
    "evaluate_url = f\"https://digibp.herokuapp.com/pmml/{deployment_id}/{file_name}/evaluate\"\n",
    "\n",
    "print(evaluate_url)"
   ]
  },
  {
   "cell_type": "markdown",
   "metadata": {
    "cell_id": "00045-10c45c6c-74fc-483c-8bd3-192be786d3d5",
    "deepnote_cell_type": "markdown",
    "tags": []
   },
   "source": [
    "Now we are ready to send a `GET` request to the DigiBP PMML API to retrieve our input variable structure of our deployed PMML file."
   ]
  },
  {
   "cell_type": "code",
   "execution_count": 22,
   "metadata": {
    "cell_id": "00044-b02ec0e7-086f-444a-ba6b-95f88f1ec626",
    "deepnote_cell_type": "code",
    "deepnote_to_be_reexecuted": false,
    "execution_millis": 370,
    "execution_start": 1637183763761,
    "source_hash": "60af51ae",
    "tags": []
   },
   "outputs": [
    {
     "name": "stdout",
     "output_type": "stream",
     "text": [
      "{\n",
      "  \"variables\": {\n",
      "    \"targetPrice\": null,\n",
      "    \"urgency\": null,\n",
      "    \"price\": null,\n",
      "    \"category\": null\n",
      "  }\n",
      "}\n"
     ]
    }
   ],
   "source": [
    "import requests, json\n",
    "\n",
    "response = requests.get(f\"{evaluate_url}/generate-input\")\n",
    "\n",
    "print(json.dumps(response.json(), indent=2))"
   ]
  },
  {
   "cell_type": "markdown",
   "metadata": {
    "cell_id": "00047-ba16235c-7429-4d2c-b9fc-5cf2083e8851",
    "deepnote_cell_type": "markdown",
    "tags": []
   },
   "source": [
    "Finally, in this step, we can copy-and-paste the input variable structure from above as input to the `payload` variable and adjust the values."
   ]
  },
  {
   "cell_type": "code",
   "execution_count": 23,
   "metadata": {
    "cell_id": "00045-316e8c36-41a3-4cb7-9d6b-b7194440d6fa",
    "deepnote_cell_type": "code",
    "deepnote_to_be_reexecuted": false,
    "execution_millis": 330,
    "execution_start": 1637183767409,
    "source_hash": "a6f1a75a",
    "tags": []
   },
   "outputs": [
    {
     "name": "stdout",
     "output_type": "stream",
     "text": [
      "{\n",
      "  \"variables\": {\n",
      "    \"approved\": true,\n",
      "    \"probability(false)\": 0.018207644780293353,\n",
      "    \"probability(true)\": 0.9817923552197066\n",
      "  }\n",
      "}\n"
     ]
    }
   ],
   "source": [
    "payload = {\n",
    "  \"variables\": {\n",
    "    \"targetPrice\": 520,\n",
    "    \"urgency\": 0,\n",
    "    \"price\": 480,\n",
    "    \"category\": 1\n",
    "  }\n",
    "}\n",
    "\n",
    "response = requests.post(evaluate_url, json=payload)\n",
    "\n",
    "print(json.dumps(response.json(), indent=2))"
   ]
  },
  {
   "cell_type": "markdown",
   "metadata": {
    "cell_id": "00049-dfd6c73c-a79c-4832-a8fc-6b3dce16b222",
    "deepnote_cell_type": "markdown",
    "tags": []
   },
   "source": [
    "We now should have received a possible output (prediction) of the PMML evaluation. In this use case, we should receive an `approved` variable, which is of type `Boolean`."
   ]
  },
  {
   "cell_type": "markdown",
   "metadata": {
    "cell_id": "00043-a4998860-b4a0-46fd-9c6f-1d626d6297dc",
    "deepnote_cell_type": "markdown"
   },
   "source": [
    "## 13. Decision Task and PMML Connector\n",
    "With the configuration insights from the PMML API, one can now configure the decision task within the BPMN model by using the Camunda Modeler. The classroom instantiation has been extended with a specific Camunda Connector for PMML, which can be used to execute a PMML model, provide input data from workflow variables and pass on output data (predictions) to workflow variables. Fig 13 shows the configurations required on the `order-approval-sklearn-init.bpmn` ([download BPMN model - here](https://ghcdn.rawgit.org/DigiBP/digibp-camunda-classroom/master/modelling/pmml/order-approval-sklearn-init.bpmn)) process.\n",
    "\n",
    "![](https://raw.githubusercontent.com/DigiBP/digibp-camunda-classroom/master/modelling/pmml/order-approval-camunda-pmml.png)\n",
    "\n",
    "**Fig 13**: PMML-connector configuration in Camunda Modeler"
   ]
  },
  {
   "cell_type": "markdown",
   "metadata": {
    "cell_id": "00047-a280c2e3-f9ab-41fd-b6c5-e7c8fc9190ec",
    "deepnote_cell_type": "markdown",
    "tags": []
   },
   "source": [
    "## 14. PMML Testing with Swagger UI (alternative)\n",
    "> This step is an alternative substitution of step 12 above.\n",
    "\n",
    "The provided classroom instantiation provides an own basic testing Swagger UI. This [PMML API Swagger UI](https://digibp.herokuapp.com/swagger-ui/#/pmmlapi) gives us the possibility, to `generate-input` fields and `evaluate` our PMML model as depicted in Fig 14.\n",
    "\n",
    "![](https://github.com/DigiBP/digibp-camunda-classroom/raw/master/modelling/pmml/camunda-pmml-api.png)\n",
    "\n",
    "**Fig 14**: PMML API Swagger UI\n"
   ]
  }
 ],
 "metadata": {
  "colab": {
   "collapsed_sections": [],
   "name": "ML Getting Started.ipynb",
   "provenance": []
  },
  "deepnote": {},
  "deepnote_execution_queue": [],
  "deepnote_notebook_id": "66b9f8a3-822e-4650-8c6c-9c876c3e0061",
  "kernelspec": {
   "display_name": "Python 3",
   "name": "python3"
  },
  "language_info": {
   "name": "python"
  }
 },
 "nbformat": 4,
 "nbformat_minor": 0
}
