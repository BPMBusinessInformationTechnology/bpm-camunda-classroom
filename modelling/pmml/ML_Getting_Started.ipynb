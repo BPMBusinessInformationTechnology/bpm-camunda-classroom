{
  "nbformat": 4,
  "nbformat_minor": 0,
  "metadata": {
    "colab": {
      "name": "ML Getting Started.ipynb",
      "provenance": [],
      "collapsed_sections": [],
      "toc_visible": true,
      "authorship_tag": "ABX9TyMEN6Kg6kYmbjx+XSOT7H5T",
      "include_colab_link": true
    },
    "kernelspec": {
      "name": "python3",
      "display_name": "Python 3"
    },
    "language_info": {
      "name": "python"
    }
  },
  "cells": [
    {
      "cell_type": "markdown",
      "metadata": {
        "id": "view-in-github",
        "colab_type": "text"
      },
      "source": [
        "<a href=\"https://colab.research.google.com/github/DigiBP/digibp-camunda-classroom/blob/master/modelling/pmml/ML_Getting_Started.ipynb\" target=\"_parent\"><img src=\"https://colab.research.google.com/assets/colab-badge.svg\" alt=\"Open In Colab\"/></a>"
      ]
    },
    {
      "cell_type": "markdown",
      "metadata": {
        "id": "07pKC6QDXX0S"
      },
      "source": [
        "# ML Getting Started with scikit-learn\n",
        "[![Open In Collab](https://colab.research.google.com/assets/colab-badge.svg)](https://colab.research.google.com/github/) [![Binder](https://binder.pangeo.io/badge_logo.svg)](https://mybinder.org/v2/gh/) [![deepnote](https://deepnote.com/buttons/launch-in-deepnote-small.svg)](https://beta.deepnote.org/launch?template=python_3.6&url=https%3A%2F%2Fgithub.com)\n",
        "\n",
        "This short tutorial is intended to provide a straight forward introduction to machine learning using the widely used Python library **scikit-learn** (aka sklearn).\n",
        "\n",
        "> Trivia: The name *SciKit* is derived from its original intention being a SciPy Toolkit. SciPy is another Python library for scientific computing.\n",
        "\n",
        "Sklearn enjoys huge popularity when it comes to classic machine learning methods; it is well documented, has a large developer community and besides the official documentation there are plenty of other good resources for the ML toolkit available on the web.\n",
        "\n",
        "> Sklearn is intended for **classical ML** and **not for Deep Learning**, although a Multi-layer Perceptron (MLP), for example, can be trained. Since Sklearn does **not support GPUs**, it is not suitable for large-scale applications."
      ]
    },
    {
      "cell_type": "markdown",
      "metadata": {
        "id": "_YJcShEfbLuq"
      },
      "source": [
        "## Data and Use Case\n",
        "This tutorial uses historical data from an expense reporting and audit process — **expense approval process**. This (possibly synthetic) data was collected by humans, which is approved or not based on the expense **category**, **urgency**, **target price** and actual **price** paid.\n",
        "\n",
        "> This use case has been inspired by an example/article of Donato Marrazzo (Red Hat, Inc.). He provided data, in a related GitHub repository [[1]](https://github.com/dmarrazzo/rhdm-dmn-pmml-order), of an **expense approval process**, which is used here in this tutorial, along with a series of articles ([[2]](https://developers.redhat.com/blog/2021/01/14/knowledge-meets-machine-learning-for-smarter-decisions-part-1#conclusion) and [[3]](https://developers.redhat.com/blog/2021/01/22/knowledge-meets-machine-learning-for-smarter-decisions-part-2#conclusion))."
      ]
    },
    {
      "cell_type": "markdown",
      "metadata": {
        "id": "bzarPqtIlaii"
      },
      "source": [
        "### 🚧 Main Task\n",
        "The task in this tutorial is to train an ML model step by step and then generate a PMML file."
      ]
    },
    {
      "cell_type": "markdown",
      "metadata": {
        "id": "ETuIabj8I47A"
      },
      "source": [
        "## 1. Load the CSV File\n",
        "Load the CSV file from GitHub and feed the data into the *data* variable by using [pandas](https://pandas.pydata.org/pandas-docs/stable/reference/api/pandas.read_csv.html). Pandas is intended to be a data analysis and manipulation tool, which is used here and the following steps until dataset separation."
      ]
    },
    {
      "cell_type": "code",
      "metadata": {
        "id": "rVcppWD74FP4"
      },
      "source": [
        "import pandas\n",
        "\n",
        "data = pandas.read_csv(\"https://raw.githubusercontent.com/DigiBP/digibp-camunda-classroom/master/modelling/pmml/order-approval.csv\", sep = \",\")\n",
        "\n",
        "print(data)"
      ],
      "execution_count": null,
      "outputs": []
    },
    {
      "cell_type": "markdown",
      "metadata": {
        "id": "wLYOC5z0KVTW"
      },
      "source": [
        "## 2. Map Categories to Numbers\n",
        "If we investigate the output of the loaded data in the previous step, we see, that **category** and **urgency** are some categorical strings. To feed that data into our ML model, we need to convert and map the categorical strings to numbers. So we map...: \n",
        "- category *optional* to 0\n",
        "- category *basic* to 1\n",
        "- urgency *low* to 0\n",
        "- urgency *medium* to 1\n",
        "- urgency *high* to 2"
      ]
    },
    {
      "cell_type": "code",
      "metadata": {
        "id": "5n3_Vp9tGrqR"
      },
      "source": [
        "category = {'optional': 0,'basic': 1}\n",
        "data.category = [category[item] for item in data.category]\n",
        "urgency = {'low': 0,'medium': 1,'high': 2}\n",
        "data.urgency = [urgency[item] for item in data.urgency]\n",
        "\n",
        "print(data)"
      ],
      "execution_count": null,
      "outputs": []
    },
    {
      "cell_type": "markdown",
      "metadata": {
        "id": "AXzXRqOQtU-5"
      },
      "source": [
        "## 3. Data Seperation\n",
        "If we investigate the output of the mapped data in the previous step, we see, that we have **category**, **urgency**, **target price** and actual **price** columns with \"input\" data, or in ML terminology **samples/design matrix** usually denoted as **X**.\n",
        "\n",
        "The **approved** column is the \"output or decision\" data, or in ML terminology the **target values** denoted as **y**.\n",
        "\n",
        "For further processing, we need to separate **X** and **y** as follows."
      ]
    },
    {
      "cell_type": "code",
      "metadata": {
        "id": "UHCtfFvAss1d"
      },
      "source": [
        "X_data = data.drop('approved',axis=1)\n",
        "y_data = data.approved\n",
        "\n",
        "print(\"X_data: \", X_data)\n",
        "print(\"y_data: \", y_data)"
      ],
      "execution_count": null,
      "outputs": []
    },
    {
      "cell_type": "markdown",
      "metadata": {
        "id": "trBM0nGkKhsn"
      },
      "source": [
        "## 4. Data Partitioning\n",
        "Training or, in ML terminology, fitting a model to data, does not mean that it will produce acceptable predictions on new data. Therefore, we split / partition the data set into a training and a testing set to be able to evaluate the performance. To accomplish this, the function [`train_test_split`](https://scikit-learn.org/stable/modules/generated/sklearn.model_selection.train_test_split.html) of scikit-learn can be used.\n",
        "- In the following, we slit the X and y data sets by 60% training and 40% testing sets defined by the `test_size=0.40` parameter.\n",
        "- The `random_state=` parameter can be adjusted from `none` to an *int* value for a reproducible output across multiple executions."
      ]
    },
    {
      "cell_type": "code",
      "metadata": {
        "id": "4XvJsAxZGu2y"
      },
      "source": [
        "from sklearn.model_selection import train_test_split\n",
        "\n",
        "X_train, X_test, y_train, y_test = train_test_split(X_data, y_data, test_size=0.40, random_state=None)\n",
        "\n",
        "print(\"X_train: \", X_train)\n",
        "print(\"y_train: \", y_train)\n",
        "print(\"X_test: \", X_test)\n",
        "print(\"y_test: \", y_test)"
      ],
      "execution_count": null,
      "outputs": []
    },
    {
      "cell_type": "markdown",
      "metadata": {
        "id": "egxy546KQMCA"
      },
      "source": [
        "### 🚧 Supplementary Tasks\n",
        "1. Try to adjust the split parameter `test_size=`, e.g., 80/20, 70/30, 75/25 or even 50/50.\n",
        "2. Investigate what happens when the `random_state=` parameter is, e.g., `0`."
      ]
    },
    {
      "cell_type": "markdown",
      "metadata": {
        "id": "3MisMN8DPARA"
      },
      "source": [
        "## 5. Initialize Learner\n",
        "Now we are going to initialize the learner for our classification problem. Sklearn provides a vide range of models for supervised and unsupervised learning. Andre Ye (2021) has provided on [Medium, towards data science,](https://towardsdatascience.com/your-ultimate-data-mining-machine-learning-cheat-sheet-9fce3fa16) a nice cheat-cheat for sklearn which can be recommended for further reading. From him, the following Fig 5.a has been taken, showcasing a subset of the most important classifiers in sklearn.\n",
        "\n",
        "![](https://miro.medium.com/1*U_waDH-LM5e-hl_2Qdrv6Q.png)\n",
        "**Fig 5.a**: sklearn classifier models ([Ye, 2021](https://towardsdatascience.com/your-ultimate-data-mining-machine-learning-cheat-sheet-9fce3fa16))"
      ]
    },
    {
      "cell_type": "markdown",
      "metadata": {
        "id": "WDwdMVOFLKXC"
      },
      "source": [
        "### Logistic Regression\n",
        "\n",
        "Our default model in this tutorial will be a linear model called `LogisticRegression`. Even if the name suggests otherwise, this is a linear model for classification rather than regression.\n",
        "\n",
        "> As a hint, in simple words: **classification** is about predicting an assignment to a **class**, whereas **regression** is about predicting a certain **score**. \n",
        "\n",
        "So we are going to initialize a logistic regression (logit) model from scikit-learn by importing and using [`LogisticRegression`](https://scikit-learn.org/stable/modules/generated/sklearn.linear_model.LogisticRegression.html) with the follwing parameters:\n",
        "- `max_iter=1000` defines the maximum number of iterations taken for the solvers to converge.\n",
        "- `multi_class='auto'` is automatically selecting an appropriate approach; in binary situations, it uses the one-vs-rest (OvR) approach.\n"
      ]
    },
    {
      "cell_type": "code",
      "metadata": {
        "id": "h8pt4Rk5G1Bq"
      },
      "source": [
        "from sklearn.linear_model import LogisticRegression\n",
        "\n",
        "model = LogisticRegression(max_iter=1000, multi_class='auto')\n",
        "\n",
        "print(model)"
      ],
      "execution_count": null,
      "outputs": []
    },
    {
      "cell_type": "markdown",
      "metadata": {
        "id": "xGw7HiJwQtB4"
      },
      "source": [
        "### 🚧 Supplementary Tasks\n",
        "Try to experiment with other classfication models from sklearn as well:"
      ]
    },
    {
      "cell_type": "code",
      "metadata": {
        "id": "U9c5Mx57G9Ph"
      },
      "source": [
        "from sklearn.tree import DecisionTreeClassifier\n",
        "model = DecisionTreeClassifier()"
      ],
      "execution_count": null,
      "outputs": []
    },
    {
      "cell_type": "code",
      "metadata": {
        "id": "CBVxmGdajsw-"
      },
      "source": [
        "from sklearn.svm import SVC\n",
        "model = SVC()"
      ],
      "execution_count": null,
      "outputs": []
    },
    {
      "cell_type": "code",
      "metadata": {
        "id": "BKHwN0nsjwPi"
      },
      "source": [
        "from sklearn.naive_bayes import GaussianNB\n",
        "model = GaussianNB()"
      ],
      "execution_count": null,
      "outputs": []
    },
    {
      "cell_type": "code",
      "metadata": {
        "id": "qCIPSciUjyGQ"
      },
      "source": [
        "from sklearn.neighbors import KNeighborsClassifier\n",
        "model = KNeighborsClassifier(n_neighbors=3)"
      ],
      "execution_count": null,
      "outputs": []
    },
    {
      "cell_type": "markdown",
      "metadata": {
        "id": "M1WtEuqWkU0Z"
      },
      "source": [
        "> ‼️ You can only initialize one model per run of the pipeline."
      ]
    },
    {
      "cell_type": "markdown",
      "metadata": {
        "id": "Qz6qiXWAj8wY"
      },
      "source": [
        "## 6. Tune Class Weights\n",
        "The author, Donato Marrazzo (Red Hat, Inc.), of the article ([[2]](https://developers.redhat.com/blog/2021/01/14/knowledge-meets-machine-learning-for-smarter-decisions-part-1#conclusion)) from which this dataset is from had an interesting idea. It maybe would be better to reject a correct expense claim than to accept an incorrect one, as rejected expense claims can be re-verified by humans. Therefore, one could try to reduce the weight of accepted expense claims.\n",
        "\n",
        "Therefore, it might be worth considering setting the weight of rejected (`False`) claims to 1 (`False : 1`) and that of accepted (`True`) cases to about 0.6 (`True : 0.6`).\n"
      ]
    },
    {
      "cell_type": "code",
      "metadata": {
        "id": "3AdUg58NHN2J"
      },
      "source": [
        "# Tune class weight\n",
        "model.class_weight ={\n",
        "    False : 1,\n",
        "    True : 0.6\n",
        "}\n",
        "\n",
        "print(model)"
      ],
      "execution_count": null,
      "outputs": []
    },
    {
      "cell_type": "markdown",
      "metadata": {
        "id": "_nlWoofZ1Sxi"
      },
      "source": [
        "### 🚧 Supplementary Tasks\n",
        "\n",
        "Try experimenting with other weight values as well."
      ]
    },
    {
      "cell_type": "markdown",
      "metadata": {
        "id": "dfQUl4mx1ggh"
      },
      "source": [
        "## 7. Train Model\n",
        "Now we can train the configured model on the training set by using the sklearn `fit` method."
      ]
    },
    {
      "cell_type": "code",
      "metadata": {
        "id": "rjDLhNHsHVlz"
      },
      "source": [
        "model.fit(X_train, y_train)"
      ],
      "execution_count": null,
      "outputs": []
    },
    {
      "cell_type": "markdown",
      "metadata": {
        "id": "DSWa4xZU17qN"
      },
      "source": [
        "## 8. Make Predictions\n",
        "\n",
        "After training, we can use our testing set to make predictions by using the `predict` method sklearn. With the prediction, we can now retrieve and calculate performance metrics."
      ]
    },
    {
      "cell_type": "code",
      "metadata": {
        "id": "rcu9urPpHYRz"
      },
      "source": [
        "y_pred = model.predict(X_test)\n",
        "\n",
        "print(y_pred)"
      ],
      "execution_count": null,
      "outputs": []
    },
    {
      "cell_type": "markdown",
      "metadata": {
        "id": "4gWLPieRliOL"
      },
      "source": [
        "## 9. Scoring\n",
        "Using various scoring metrics, we can examine how well the trained model performs on the test set."
      ]
    },
    {
      "cell_type": "markdown",
      "metadata": {
        "id": "vf8hL2NoMiqT"
      },
      "source": [
        "### 9.1 Precision, Recall and F1\n",
        "In the following, multiple methods of sklearn are used to get overall precision, recall, F1 and overall accuracy.\n",
        "\n",
        "> In a binary classification, the precision indicates the ratio of correctly predicted positive results (TP) in relation to the total of all results predicted as positive (TP + FP). The recall indicates the ratio of results correctly classified as positive (TP) in relation to the total of actually positive results (TP + FN).\n",
        "\n",
        "> In general, the F1 score is the mean of precision and recall. The accuracy score assesses the accuracy of the correct predictions."
      ]
    },
    {
      "cell_type": "code",
      "metadata": {
        "id": "XwoHVCa4HbMy"
      },
      "source": [
        "from sklearn.metrics import recall_score, precision_score, accuracy_score, f1_score\n",
        "\n",
        "RS = recall_score(y_test, y_pred)\n",
        "print(f\"Recall score: {100 * RS:.2f}%\")\n",
        "\n",
        "PS = precision_score(y_test, y_pred)\n",
        "print(f\"Precision score: {100 * PS:.2f}%\")\n",
        "\n",
        "F1 = f1_score(y_test, y_pred)\n",
        "print(f\"F1: {100 * F1:.2f}%\")\n",
        "\n",
        "AS = accuracy_score(y_test, y_pred)\n",
        "print(f\"Accuracy score: {100 * AS:.2f}%\")"
      ],
      "execution_count": null,
      "outputs": []
    },
    {
      "cell_type": "markdown",
      "metadata": {
        "id": "ksM79E-Tzfco"
      },
      "source": [
        "In the following, a classification report can be generated by using the `classification_report` method of sklearn to get precision, recall and F1 on each class or label."
      ]
    },
    {
      "cell_type": "code",
      "metadata": {
        "id": "gJmYhVCFK7fe"
      },
      "source": [
        "from sklearn.metrics import classification_report\n",
        "\n",
        "CR = classification_report(y_test, y_pred)\n",
        "\n",
        "print(f\"Classification Report (CR):\\n{CR}\")"
      ],
      "execution_count": null,
      "outputs": []
    },
    {
      "cell_type": "markdown",
      "metadata": {
        "id": "GCHNmuuo6HaU"
      },
      "source": [
        "### 9.2 Confusion Matrix\n",
        "In the following, a confusion matrix can be generated by using the `confusion_matrix` method of sklearn.\n",
        "\n",
        "> In binary classification problems, the confusion matrix consists of the number of true positive (TP), true negative (TN), false positive (FP) and false negative (FN) predictions."
      ]
    },
    {
      "cell_type": "code",
      "metadata": {
        "id": "KhfWmimb6N3V"
      },
      "source": [
        "from sklearn.metrics import confusion_matrix\n",
        "\n",
        "CM = confusion_matrix(y_test, y_pred)\n",
        "\n",
        "print(f\"Confusion Matrix (CM):\\n{CM}\")"
      ],
      "execution_count": null,
      "outputs": []
    },
    {
      "cell_type": "markdown",
      "metadata": {
        "id": "DJyoUg3xRg0O"
      },
      "source": [
        "The generated confusion matrix can be plotted with `ConfusionMatrixDisplay` of sklearn."
      ]
    },
    {
      "cell_type": "code",
      "metadata": {
        "colab": {
          "base_uri": "https://localhost:8080/",
          "height": 297
        },
        "id": "F4KieqbA6dCX",
        "outputId": "f7b5a319-1d05-43c3-adb0-5b573e9ba3e9"
      },
      "source": [
        "from sklearn.metrics import ConfusionMatrixDisplay\n",
        "\n",
        "disp = ConfusionMatrixDisplay(confusion_matrix=CM, display_labels=model.classes_)\n",
        "disp.plot(values_format='')"
      ],
      "execution_count": 146,
      "outputs": [
        {
          "output_type": "execute_result",
          "data": {
            "text/plain": [
              "<sklearn.metrics._plot.confusion_matrix.ConfusionMatrixDisplay at 0x7f0ef73e8490>"
            ]
          },
          "metadata": {},
          "execution_count": 146
        },
        {
          "output_type": "display_data",
          "data": {
            "image/png": "[encoded data removed]",
            "text/plain": [
              "<Figure size 432x288 with 2 Axes>"
            ]
          },
          "metadata": {
            "needs_background": "light"
          }
        }
      ]
    },
    {
      "cell_type": "markdown",
      "metadata": {
        "id": "-E3zQl_zAGkF"
      },
      "source": [
        "#### Interpreting the Confusion Matrix\n",
        "In a binary classification problem (as it is the case in this application scenario), one can interpret the plot as follows:\n",
        "- Top-right: Number of cases where they actually not have a true label and the true label was predicted. So it is (**FP**) **F**alse that it is true (**P**ositive). In our case, we must minimize this!\n",
        "- Bottom-left: Number of cases where they actually have a true label and the true label was not predicted. So it is (**FN**) **F**alse that it is false (**N**egative). In our case, we maybe can minimize this.\n",
        "- Top-left: Number of cases where they actually not have a true label and the true label was not predicted. So it is (**TN**) **T**rue that it is false (**N**egative).\n",
        "- Bottom-right: Number of cases where they actually have the true label and the true label was predicted. So it is (**TP**) **T**rue that it is true (**P**ositive)."
      ]
    },
    {
      "cell_type": "markdown",
      "metadata": {
        "id": "87LVknNFM_kt"
      },
      "source": [
        "## 10. PMML Export\n",
        "Finally, the trained model can now be exported with the library [sklearn2pmml](https://github.com/jpmml/sklearn2pmml) to PMML."
      ]
    },
    {
      "cell_type": "code",
      "metadata": {
        "id": "DKrwTdECHurK",
        "colab": {
          "base_uri": "https://localhost:8080/"
        },
        "outputId": "fc949345-fe63-42c7-9cac-c347545d68ac"
      },
      "source": [
        "!pip install -q sklearn2pmml\n",
        "from sklearn2pmml import sklearn2pmml\n",
        "from sklearn2pmml import make_pmml_pipeline\n",
        "\n",
        "pipeline = make_pmml_pipeline(\n",
        "    model,\n",
        "    active_fields= [\"category\", \"urgency\", \"targetPrice\", \"price\"],\n",
        "    target_fields= [\"approval\"]\n",
        ")\n",
        "sklearn2pmml(pipeline, \"order-approval.pmml\")"
      ],
      "execution_count": 91,
      "outputs": [
        {
          "output_type": "stream",
          "name": "stdout",
          "text": [
            "\u001b[K     |████████████████████████████████| 6.0 MB 6.2 MB/s \n",
            "\u001b[?25h  Building wheel for sklearn2pmml (setup.py) ... \u001b[?25l\u001b[?25hdone\n"
          ]
        }
      ]
    }
  ]
}